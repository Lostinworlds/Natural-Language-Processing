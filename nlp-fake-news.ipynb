{
 "cells": [
  {
   "cell_type": "markdown",
   "id": "c94389f2",
   "metadata": {
    "papermill": {
     "duration": 0.007211,
     "end_time": "2022-12-01T10:28:40.240066",
     "exception": false,
     "start_time": "2022-12-01T10:28:40.232855",
     "status": "completed"
    },
    "tags": []
   },
   "source": [
    "# Introduction \n",
    "Fake news is defined as \"*false stories that appear to be news, spread on the internet or using other media, usually created to influence political views or as a joke*.\" ([Cambridge University Press, 2022](https://dictionary.cambridge.org/dictionary/english/fake-news)) Originating as far back as the Roman era, it has existed for over two millennia. ([BBC, 2022](https://www.bbc.co.uk/bitesize/articles/zwcgn9q)). However, powered by the growth of the internet, it has gained significant prominence. \n",
    "\n",
    "Its influence on the public is a course for concern as it \"*promotes toxic narratives, spreads doubt and confusion, and increases social polarisation, affecting democratic decision-making*.\" ([Civica, 2022](https://www.civica.eu/fake-news-and-democracy/)) It can also be difficult to identify due to cognitive biases. These are shortcuts and according to Centre for Information Technology & Society ([2022](https://www.cits.ucsb.edu/fake-news/why-we-fall)) four aspects of cognitive biases are in affect in the utility of information. \n",
    "> First, we tend to focus on headlines and tags without reading the article they’re associated with. Second, social media’s popularity signals affect our attention to and acceptance of information. Third, fake news takes advantage of partisanship, a very strong reflex. And fourth, persistence--there’s a weird tendency for false information to stick around, even after it’s corrected.\n",
    "\n",
    "The issue of fake news made headlines during the 2016 US election ([Blake, 2018](https://www.washingtonpost.com/news/the-fix/wp/2018/04/03/a-new-study-suggests-fake-news-might-have-won-donald-trump-the-2016-election/)). However, due to its power to miniplate audiences and subsequent profitability, as well as the ethics surrounding free speech, fake news continues to be prominent. For instance,  Donald Trump's use of fake news to benefit himself and strengthen his position is widely recorded. ([Rattner, 2021](https://www.cnbc.com/2021/01/13/trump-tweets-legacy-of-lies-misinformation-distrust.html)) In such cases, securing government led condemnation of the issue may be limited. \n",
    "\n",
    "This is not to say that efforts have not been made. For instance, organisations such as [FactChecker](https://www.factcheck.org/about/our-mission/) and Birdwatch strived to debunk such news ([Lorenz et al, 2022](https://www.washingtonpost.com/technology/2022/11/09/twitter-birdwatch-factcheck-musk-misinfo/)). They work by identifying and highlighting misinformation. \n",
    "\n",
    "This method is one of 4 methods highlighted in a report by Lazer et al ([2017](https://www.sipotra.it/wp-content/uploads/2017/06/Combating-Fake-News.pdf)) as methods to combat fake news: \n",
    "> (1) offering feedback to users that particular news may be fake (which seems to depress overall sharing from those individuals); \n",
    "> (2) providing ideologically compatible sources that confirm that particular news is fake; (3) detecting information that is being promoted by bots and “cyborg” accounts and tuning algorithms to not respond to those manipulations; and \n",
    "> (4) because a few sources may be the origin of most fake news, identifying those sources and reducing promotion (by the platforms) of information from those sources.\n",
    "\n",
    "\n",
    "# Combatting Fake News\n",
    "In the case of the methods highlighted above and in the ways exercised by groups such as FactCherker, fake news must first be identified. For this, fake news or suspected fake news needs to be identified and a key tool for such identification can be machine learning/ artificial intelligence. \n",
    "\n",
    "There are two main methods for this. Unsupervised learning may be able to identify discussion groups where an Echo chamber is forming. Likewise, a supervised learning model akin to those used for spam filtering could be used to identify suspected fake news based on a pre-existing dataset. The later can be explored using a [fake news dataset on Kaggle](https://www.kaggle.com/datasets/clmentbisaillon/fake-and-real-news-dataset). \n",
    "\n"
   ]
  },
  {
   "cell_type": "code",
   "execution_count": 1,
   "id": "37d0e864",
   "metadata": {
    "_cell_guid": "b1076dfc-b9ad-4769-8c92-a6c4dae69d19",
    "_uuid": "8f2839f25d086af736a60e9eeb907d3b93b6e0e5",
    "execution": {
     "iopub.execute_input": "2022-12-01T10:28:40.253996Z",
     "iopub.status.busy": "2022-12-01T10:28:40.253554Z",
     "iopub.status.idle": "2022-12-01T10:28:42.856094Z",
     "shell.execute_reply": "2022-12-01T10:28:42.855147Z"
    },
    "papermill": {
     "duration": 2.612587,
     "end_time": "2022-12-01T10:28:42.858768",
     "exception": false,
     "start_time": "2022-12-01T10:28:40.246181",
     "status": "completed"
    },
    "tags": []
   },
   "outputs": [],
   "source": [
    "import numpy as np # linear algebra\n",
    "import pandas as pd # data processing, CSV file I/O (e.g. pd.read_csv)\n",
    "\n",
    "import os\n",
    "\n",
    "\n",
    "fake = pd.read_csv(\"/kaggle/input/fake-and-real-news-dataset/Fake.csv\")\n",
    "true = pd.read_csv(\"/kaggle/input/fake-and-real-news-dataset/True.csv\")"
   ]
  },
  {
   "cell_type": "code",
   "execution_count": 2,
   "id": "b886f4fa",
   "metadata": {
    "execution": {
     "iopub.execute_input": "2022-12-01T10:28:42.872498Z",
     "iopub.status.busy": "2022-12-01T10:28:42.872106Z",
     "iopub.status.idle": "2022-12-01T10:28:42.899036Z",
     "shell.execute_reply": "2022-12-01T10:28:42.897574Z"
    },
    "papermill": {
     "duration": 0.036723,
     "end_time": "2022-12-01T10:28:42.901572",
     "exception": false,
     "start_time": "2022-12-01T10:28:42.864849",
     "status": "completed"
    },
    "tags": []
   },
   "outputs": [
    {
     "data": {
      "text/html": [
       "<div>\n",
       "<style scoped>\n",
       "    .dataframe tbody tr th:only-of-type {\n",
       "        vertical-align: middle;\n",
       "    }\n",
       "\n",
       "    .dataframe tbody tr th {\n",
       "        vertical-align: top;\n",
       "    }\n",
       "\n",
       "    .dataframe thead th {\n",
       "        text-align: right;\n",
       "    }\n",
       "</style>\n",
       "<table border=\"1\" class=\"dataframe\">\n",
       "  <thead>\n",
       "    <tr style=\"text-align: right;\">\n",
       "      <th></th>\n",
       "      <th>title</th>\n",
       "      <th>text</th>\n",
       "      <th>subject</th>\n",
       "      <th>date</th>\n",
       "    </tr>\n",
       "  </thead>\n",
       "  <tbody>\n",
       "    <tr>\n",
       "      <th>0</th>\n",
       "      <td>Donald Trump Sends Out Embarrassing New Year’...</td>\n",
       "      <td>Donald Trump just couldn t wish all Americans ...</td>\n",
       "      <td>News</td>\n",
       "      <td>December 31, 2017</td>\n",
       "    </tr>\n",
       "    <tr>\n",
       "      <th>1</th>\n",
       "      <td>Drunk Bragging Trump Staffer Started Russian ...</td>\n",
       "      <td>House Intelligence Committee Chairman Devin Nu...</td>\n",
       "      <td>News</td>\n",
       "      <td>December 31, 2017</td>\n",
       "    </tr>\n",
       "    <tr>\n",
       "      <th>2</th>\n",
       "      <td>Sheriff David Clarke Becomes An Internet Joke...</td>\n",
       "      <td>On Friday, it was revealed that former Milwauk...</td>\n",
       "      <td>News</td>\n",
       "      <td>December 30, 2017</td>\n",
       "    </tr>\n",
       "    <tr>\n",
       "      <th>3</th>\n",
       "      <td>Trump Is So Obsessed He Even Has Obama’s Name...</td>\n",
       "      <td>On Christmas day, Donald Trump announced that ...</td>\n",
       "      <td>News</td>\n",
       "      <td>December 29, 2017</td>\n",
       "    </tr>\n",
       "    <tr>\n",
       "      <th>4</th>\n",
       "      <td>Pope Francis Just Called Out Donald Trump Dur...</td>\n",
       "      <td>Pope Francis used his annual Christmas Day mes...</td>\n",
       "      <td>News</td>\n",
       "      <td>December 25, 2017</td>\n",
       "    </tr>\n",
       "  </tbody>\n",
       "</table>\n",
       "</div>"
      ],
      "text/plain": [
       "                                               title  \\\n",
       "0   Donald Trump Sends Out Embarrassing New Year’...   \n",
       "1   Drunk Bragging Trump Staffer Started Russian ...   \n",
       "2   Sheriff David Clarke Becomes An Internet Joke...   \n",
       "3   Trump Is So Obsessed He Even Has Obama’s Name...   \n",
       "4   Pope Francis Just Called Out Donald Trump Dur...   \n",
       "\n",
       "                                                text subject  \\\n",
       "0  Donald Trump just couldn t wish all Americans ...    News   \n",
       "1  House Intelligence Committee Chairman Devin Nu...    News   \n",
       "2  On Friday, it was revealed that former Milwauk...    News   \n",
       "3  On Christmas day, Donald Trump announced that ...    News   \n",
       "4  Pope Francis used his annual Christmas Day mes...    News   \n",
       "\n",
       "                date  \n",
       "0  December 31, 2017  \n",
       "1  December 31, 2017  \n",
       "2  December 30, 2017  \n",
       "3  December 29, 2017  \n",
       "4  December 25, 2017  "
      ]
     },
     "execution_count": 2,
     "metadata": {},
     "output_type": "execute_result"
    }
   ],
   "source": [
    "fake.head()"
   ]
  },
  {
   "cell_type": "code",
   "execution_count": 3,
   "id": "683b9cfe",
   "metadata": {
    "execution": {
     "iopub.execute_input": "2022-12-01T10:28:42.915810Z",
     "iopub.status.busy": "2022-12-01T10:28:42.914753Z",
     "iopub.status.idle": "2022-12-01T10:28:42.926697Z",
     "shell.execute_reply": "2022-12-01T10:28:42.925443Z"
    },
    "papermill": {
     "duration": 0.021492,
     "end_time": "2022-12-01T10:28:42.929260",
     "exception": false,
     "start_time": "2022-12-01T10:28:42.907768",
     "status": "completed"
    },
    "tags": []
   },
   "outputs": [
    {
     "data": {
      "text/html": [
       "<div>\n",
       "<style scoped>\n",
       "    .dataframe tbody tr th:only-of-type {\n",
       "        vertical-align: middle;\n",
       "    }\n",
       "\n",
       "    .dataframe tbody tr th {\n",
       "        vertical-align: top;\n",
       "    }\n",
       "\n",
       "    .dataframe thead th {\n",
       "        text-align: right;\n",
       "    }\n",
       "</style>\n",
       "<table border=\"1\" class=\"dataframe\">\n",
       "  <thead>\n",
       "    <tr style=\"text-align: right;\">\n",
       "      <th></th>\n",
       "      <th>title</th>\n",
       "      <th>text</th>\n",
       "      <th>subject</th>\n",
       "      <th>date</th>\n",
       "    </tr>\n",
       "  </thead>\n",
       "  <tbody>\n",
       "    <tr>\n",
       "      <th>0</th>\n",
       "      <td>As U.S. budget fight looms, Republicans flip t...</td>\n",
       "      <td>WASHINGTON (Reuters) - The head of a conservat...</td>\n",
       "      <td>politicsNews</td>\n",
       "      <td>December 31, 2017</td>\n",
       "    </tr>\n",
       "    <tr>\n",
       "      <th>1</th>\n",
       "      <td>U.S. military to accept transgender recruits o...</td>\n",
       "      <td>WASHINGTON (Reuters) - Transgender people will...</td>\n",
       "      <td>politicsNews</td>\n",
       "      <td>December 29, 2017</td>\n",
       "    </tr>\n",
       "    <tr>\n",
       "      <th>2</th>\n",
       "      <td>Senior U.S. Republican senator: 'Let Mr. Muell...</td>\n",
       "      <td>WASHINGTON (Reuters) - The special counsel inv...</td>\n",
       "      <td>politicsNews</td>\n",
       "      <td>December 31, 2017</td>\n",
       "    </tr>\n",
       "    <tr>\n",
       "      <th>3</th>\n",
       "      <td>FBI Russia probe helped by Australian diplomat...</td>\n",
       "      <td>WASHINGTON (Reuters) - Trump campaign adviser ...</td>\n",
       "      <td>politicsNews</td>\n",
       "      <td>December 30, 2017</td>\n",
       "    </tr>\n",
       "    <tr>\n",
       "      <th>4</th>\n",
       "      <td>Trump wants Postal Service to charge 'much mor...</td>\n",
       "      <td>SEATTLE/WASHINGTON (Reuters) - President Donal...</td>\n",
       "      <td>politicsNews</td>\n",
       "      <td>December 29, 2017</td>\n",
       "    </tr>\n",
       "  </tbody>\n",
       "</table>\n",
       "</div>"
      ],
      "text/plain": [
       "                                               title  \\\n",
       "0  As U.S. budget fight looms, Republicans flip t...   \n",
       "1  U.S. military to accept transgender recruits o...   \n",
       "2  Senior U.S. Republican senator: 'Let Mr. Muell...   \n",
       "3  FBI Russia probe helped by Australian diplomat...   \n",
       "4  Trump wants Postal Service to charge 'much mor...   \n",
       "\n",
       "                                                text       subject  \\\n",
       "0  WASHINGTON (Reuters) - The head of a conservat...  politicsNews   \n",
       "1  WASHINGTON (Reuters) - Transgender people will...  politicsNews   \n",
       "2  WASHINGTON (Reuters) - The special counsel inv...  politicsNews   \n",
       "3  WASHINGTON (Reuters) - Trump campaign adviser ...  politicsNews   \n",
       "4  SEATTLE/WASHINGTON (Reuters) - President Donal...  politicsNews   \n",
       "\n",
       "                 date  \n",
       "0  December 31, 2017   \n",
       "1  December 29, 2017   \n",
       "2  December 31, 2017   \n",
       "3  December 30, 2017   \n",
       "4  December 29, 2017   "
      ]
     },
     "execution_count": 3,
     "metadata": {},
     "output_type": "execute_result"
    }
   ],
   "source": [
    "true.head()"
   ]
  },
  {
   "cell_type": "code",
   "execution_count": 4,
   "id": "167741e3",
   "metadata": {
    "execution": {
     "iopub.execute_input": "2022-12-01T10:28:42.943316Z",
     "iopub.status.busy": "2022-12-01T10:28:42.942513Z",
     "iopub.status.idle": "2022-12-01T10:28:42.951945Z",
     "shell.execute_reply": "2022-12-01T10:28:42.950640Z"
    },
    "papermill": {
     "duration": 0.01885,
     "end_time": "2022-12-01T10:28:42.954229",
     "exception": false,
     "start_time": "2022-12-01T10:28:42.935379",
     "status": "completed"
    },
    "tags": []
   },
   "outputs": [],
   "source": [
    "fake[\"type\"] =\"Fake\"\n",
    "true[\"type\"] =\"True\""
   ]
  },
  {
   "cell_type": "code",
   "execution_count": 5,
   "id": "fb2b7cda",
   "metadata": {
    "execution": {
     "iopub.execute_input": "2022-12-01T10:28:42.968496Z",
     "iopub.status.busy": "2022-12-01T10:28:42.967567Z",
     "iopub.status.idle": "2022-12-01T10:28:42.998966Z",
     "shell.execute_reply": "2022-12-01T10:28:42.997970Z"
    },
    "papermill": {
     "duration": 0.040884,
     "end_time": "2022-12-01T10:28:43.001281",
     "exception": false,
     "start_time": "2022-12-01T10:28:42.960397",
     "status": "completed"
    },
    "tags": []
   },
   "outputs": [],
   "source": [
    "result = pd.concat([fake,true ]).sample(frac = 1).reset_index(drop=True)"
   ]
  },
  {
   "cell_type": "code",
   "execution_count": 6,
   "id": "7b465d5a",
   "metadata": {
    "execution": {
     "iopub.execute_input": "2022-12-01T10:28:43.016361Z",
     "iopub.status.busy": "2022-12-01T10:28:43.015924Z",
     "iopub.status.idle": "2022-12-01T10:28:43.026769Z",
     "shell.execute_reply": "2022-12-01T10:28:43.026114Z"
    },
    "papermill": {
     "duration": 0.020835,
     "end_time": "2022-12-01T10:28:43.028334",
     "exception": false,
     "start_time": "2022-12-01T10:28:43.007499",
     "status": "completed"
    },
    "tags": []
   },
   "outputs": [
    {
     "data": {
      "text/html": [
       "<div>\n",
       "<style scoped>\n",
       "    .dataframe tbody tr th:only-of-type {\n",
       "        vertical-align: middle;\n",
       "    }\n",
       "\n",
       "    .dataframe tbody tr th {\n",
       "        vertical-align: top;\n",
       "    }\n",
       "\n",
       "    .dataframe thead th {\n",
       "        text-align: right;\n",
       "    }\n",
       "</style>\n",
       "<table border=\"1\" class=\"dataframe\">\n",
       "  <thead>\n",
       "    <tr style=\"text-align: right;\">\n",
       "      <th></th>\n",
       "      <th>title</th>\n",
       "      <th>text</th>\n",
       "      <th>subject</th>\n",
       "      <th>date</th>\n",
       "      <th>type</th>\n",
       "    </tr>\n",
       "  </thead>\n",
       "  <tbody>\n",
       "    <tr>\n",
       "      <th>0</th>\n",
       "      <td>Taliban increases influence, territory in Afgh...</td>\n",
       "      <td>WASHINGTON (Reuters) - The Taliban has increas...</td>\n",
       "      <td>worldnews</td>\n",
       "      <td>October 31, 2017</td>\n",
       "      <td>True</td>\n",
       "    </tr>\n",
       "    <tr>\n",
       "      <th>1</th>\n",
       "      <td>Those who boycott Syrian congress may be sidel...</td>\n",
       "      <td>ASTANA (Reuters) - Syrian groups who choose to...</td>\n",
       "      <td>worldnews</td>\n",
       "      <td>October 31, 2017</td>\n",
       "      <td>True</td>\n",
       "    </tr>\n",
       "    <tr>\n",
       "      <th>2</th>\n",
       "      <td>Director Rob Reiner: ‘Moron’ Trump Is Last Ga...</td>\n",
       "      <td>Racists and Confederate flag worshipers may be...</td>\n",
       "      <td>News</td>\n",
       "      <td>November 15, 2016</td>\n",
       "      <td>Fake</td>\n",
       "    </tr>\n",
       "    <tr>\n",
       "      <th>3</th>\n",
       "      <td>U.S. court rejects Trump bid to stop transgend...</td>\n",
       "      <td>NEW YORK (Reuters) - A federal appeals court i...</td>\n",
       "      <td>politicsNews</td>\n",
       "      <td>December 21, 2017</td>\n",
       "      <td>True</td>\n",
       "    </tr>\n",
       "    <tr>\n",
       "      <th>4</th>\n",
       "      <td>WATCH: STONE-FACED ANDERSON COOPER Gets School...</td>\n",
       "      <td>President Trump s deputy assistant Sebastian G...</td>\n",
       "      <td>politics</td>\n",
       "      <td>Jul 13, 2017</td>\n",
       "      <td>Fake</td>\n",
       "    </tr>\n",
       "  </tbody>\n",
       "</table>\n",
       "</div>"
      ],
      "text/plain": [
       "                                               title  \\\n",
       "0  Taliban increases influence, territory in Afgh...   \n",
       "1  Those who boycott Syrian congress may be sidel...   \n",
       "2   Director Rob Reiner: ‘Moron’ Trump Is Last Ga...   \n",
       "3  U.S. court rejects Trump bid to stop transgend...   \n",
       "4  WATCH: STONE-FACED ANDERSON COOPER Gets School...   \n",
       "\n",
       "                                                text       subject  \\\n",
       "0  WASHINGTON (Reuters) - The Taliban has increas...     worldnews   \n",
       "1  ASTANA (Reuters) - Syrian groups who choose to...     worldnews   \n",
       "2  Racists and Confederate flag worshipers may be...          News   \n",
       "3  NEW YORK (Reuters) - A federal appeals court i...  politicsNews   \n",
       "4  President Trump s deputy assistant Sebastian G...      politics   \n",
       "\n",
       "                 date  type  \n",
       "0   October 31, 2017   True  \n",
       "1   October 31, 2017   True  \n",
       "2   November 15, 2016  Fake  \n",
       "3  December 21, 2017   True  \n",
       "4        Jul 13, 2017  Fake  "
      ]
     },
     "execution_count": 6,
     "metadata": {},
     "output_type": "execute_result"
    }
   ],
   "source": [
    "result.head()"
   ]
  },
  {
   "cell_type": "code",
   "execution_count": 7,
   "id": "771804b6",
   "metadata": {
    "execution": {
     "iopub.execute_input": "2022-12-01T10:28:43.043216Z",
     "iopub.status.busy": "2022-12-01T10:28:43.042623Z",
     "iopub.status.idle": "2022-12-01T10:28:43.080712Z",
     "shell.execute_reply": "2022-12-01T10:28:43.079493Z"
    },
    "papermill": {
     "duration": 0.048866,
     "end_time": "2022-12-01T10:28:43.083473",
     "exception": false,
     "start_time": "2022-12-01T10:28:43.034607",
     "status": "completed"
    },
    "tags": []
   },
   "outputs": [
    {
     "name": "stdout",
     "output_type": "stream",
     "text": [
      "<class 'pandas.core.frame.DataFrame'>\n",
      "RangeIndex: 44898 entries, 0 to 44897\n",
      "Data columns (total 5 columns):\n",
      " #   Column   Non-Null Count  Dtype \n",
      "---  ------   --------------  ----- \n",
      " 0   title    44898 non-null  object\n",
      " 1   text     44898 non-null  object\n",
      " 2   subject  44898 non-null  object\n",
      " 3   date     44898 non-null  object\n",
      " 4   type     44898 non-null  object\n",
      "dtypes: object(5)\n",
      "memory usage: 1.7+ MB\n"
     ]
    }
   ],
   "source": [
    "result.info()"
   ]
  },
  {
   "cell_type": "code",
   "execution_count": 8,
   "id": "95bf6328",
   "metadata": {
    "execution": {
     "iopub.execute_input": "2022-12-01T10:28:43.098751Z",
     "iopub.status.busy": "2022-12-01T10:28:43.098380Z",
     "iopub.status.idle": "2022-12-01T10:28:43.108107Z",
     "shell.execute_reply": "2022-12-01T10:28:43.107104Z"
    },
    "papermill": {
     "duration": 0.019636,
     "end_time": "2022-12-01T10:28:43.110105",
     "exception": false,
     "start_time": "2022-12-01T10:28:43.090469",
     "status": "completed"
    },
    "tags": []
   },
   "outputs": [
    {
     "data": {
      "text/plain": [
       "Fake    23481\n",
       "True    21417\n",
       "Name: type, dtype: int64"
      ]
     },
     "execution_count": 8,
     "metadata": {},
     "output_type": "execute_result"
    }
   ],
   "source": [
    "result[\"type\"].value_counts()"
   ]
  },
  {
   "cell_type": "markdown",
   "id": "98a4276e",
   "metadata": {
    "papermill": {
     "duration": 0.006342,
     "end_time": "2022-12-01T10:28:43.123093",
     "exception": false,
     "start_time": "2022-12-01T10:28:43.116751",
     "status": "completed"
    },
    "tags": []
   },
   "source": [
    "The dataset consists of two datasets, one containing true news whilst the other contains fake news. The datasets is relatively even with a slight leaning in favour of fake news. "
   ]
  },
  {
   "cell_type": "code",
   "execution_count": 9,
   "id": "dc2dc8a4",
   "metadata": {
    "execution": {
     "iopub.execute_input": "2022-12-01T10:28:43.138142Z",
     "iopub.status.busy": "2022-12-01T10:28:43.137733Z",
     "iopub.status.idle": "2022-12-01T10:28:43.153632Z",
     "shell.execute_reply": "2022-12-01T10:28:43.151841Z"
    },
    "papermill": {
     "duration": 0.025709,
     "end_time": "2022-12-01T10:28:43.155702",
     "exception": false,
     "start_time": "2022-12-01T10:28:43.129993",
     "status": "completed"
    },
    "tags": []
   },
   "outputs": [
    {
     "data": {
      "text/plain": [
       "52.0"
      ]
     },
     "execution_count": 9,
     "metadata": {},
     "output_type": "execute_result"
    }
   ],
   "source": [
    "(round(result[result[\"type\"]==\"Fake\"].shape[0]/result.shape[0],2))*100"
   ]
  },
  {
   "cell_type": "markdown",
   "id": "5f9d6dc9",
   "metadata": {
    "papermill": {
     "duration": 0.006292,
     "end_time": "2022-12-01T10:28:43.168739",
     "exception": false,
     "start_time": "2022-12-01T10:28:43.162447",
     "status": "completed"
    },
    "tags": []
   },
   "source": [
    "Using  a potion of the dataset, a model can be created through the use of matrix of TF-IDF features and linear support vector classification. This model performs extremely robustly with a f1-score of 0.99 and an accuracy of 0.99. "
   ]
  },
  {
   "cell_type": "code",
   "execution_count": 10,
   "id": "fac732e9",
   "metadata": {
    "execution": {
     "iopub.execute_input": "2022-12-01T10:28:43.183400Z",
     "iopub.status.busy": "2022-12-01T10:28:43.183017Z",
     "iopub.status.idle": "2022-12-01T10:28:44.153902Z",
     "shell.execute_reply": "2022-12-01T10:28:44.152511Z"
    },
    "papermill": {
     "duration": 0.981024,
     "end_time": "2022-12-01T10:28:44.156378",
     "exception": false,
     "start_time": "2022-12-01T10:28:43.175354",
     "status": "completed"
    },
    "tags": []
   },
   "outputs": [],
   "source": [
    "from sklearn.model_selection import train_test_split\n",
    "\n",
    "x = result[\"text\"]\n",
    "y = result[\"type\"]\n",
    "\n",
    "X_train, X_test, y_train, y_test = train_test_split(x,y,test_size = 0.33, random_state = 100)"
   ]
  },
  {
   "cell_type": "code",
   "execution_count": 11,
   "id": "71e1065e",
   "metadata": {
    "execution": {
     "iopub.execute_input": "2022-12-01T10:28:44.172691Z",
     "iopub.status.busy": "2022-12-01T10:28:44.172134Z",
     "iopub.status.idle": "2022-12-01T10:28:52.853991Z",
     "shell.execute_reply": "2022-12-01T10:28:52.853385Z"
    },
    "papermill": {
     "duration": 8.692151,
     "end_time": "2022-12-01T10:28:52.855949",
     "exception": false,
     "start_time": "2022-12-01T10:28:44.163798",
     "status": "completed"
    },
    "tags": []
   },
   "outputs": [
    {
     "data": {
      "text/plain": [
       "Pipeline(steps=[('tfidf', TfidfVectorizer()), ('clf', LinearSVC())])"
      ]
     },
     "execution_count": 11,
     "metadata": {},
     "output_type": "execute_result"
    }
   ],
   "source": [
    "from sklearn.pipeline import Pipeline\n",
    "from sklearn.feature_extraction.text import TfidfVectorizer\n",
    "from sklearn.svm import LinearSVC\n",
    "\n",
    "text_clf = Pipeline([(\"tfidf\", TfidfVectorizer()), \n",
    "                    (\"clf\", LinearSVC())\n",
    "                    ])\n",
    "\n",
    "text_clf.fit(X_train, y_train)"
   ]
  },
  {
   "cell_type": "code",
   "execution_count": 12,
   "id": "d5146ca6",
   "metadata": {
    "execution": {
     "iopub.execute_input": "2022-12-01T10:28:52.871590Z",
     "iopub.status.busy": "2022-12-01T10:28:52.871091Z",
     "iopub.status.idle": "2022-12-01T10:28:56.716909Z",
     "shell.execute_reply": "2022-12-01T10:28:56.715637Z"
    },
    "papermill": {
     "duration": 3.856469,
     "end_time": "2022-12-01T10:28:56.719531",
     "exception": false,
     "start_time": "2022-12-01T10:28:52.863062",
     "status": "completed"
    },
    "tags": []
   },
   "outputs": [],
   "source": [
    "predictions = text_clf.predict(X_test)"
   ]
  },
  {
   "cell_type": "code",
   "execution_count": 13,
   "id": "d5888bfc",
   "metadata": {
    "execution": {
     "iopub.execute_input": "2022-12-01T10:28:56.735990Z",
     "iopub.status.busy": "2022-12-01T10:28:56.735611Z",
     "iopub.status.idle": "2022-12-01T10:28:57.186177Z",
     "shell.execute_reply": "2022-12-01T10:28:57.184827Z"
    },
    "papermill": {
     "duration": 0.461579,
     "end_time": "2022-12-01T10:28:57.188412",
     "exception": false,
     "start_time": "2022-12-01T10:28:56.726833",
     "status": "completed"
    },
    "tags": []
   },
   "outputs": [
    {
     "name": "stdout",
     "output_type": "stream",
     "text": [
      "[[7674   50]\n",
      " [  42 7051]]\n",
      "              precision    recall  f1-score   support\n",
      "\n",
      "        Fake       0.99      0.99      0.99      7724\n",
      "        True       0.99      0.99      0.99      7093\n",
      "\n",
      "    accuracy                           0.99     14817\n",
      "   macro avg       0.99      0.99      0.99     14817\n",
      "weighted avg       0.99      0.99      0.99     14817\n",
      "\n"
     ]
    }
   ],
   "source": [
    "from sklearn import metrics\n",
    "print(metrics.confusion_matrix(y_test,predictions))\n",
    "print(metrics.classification_report(y_test,predictions))"
   ]
  },
  {
   "cell_type": "code",
   "execution_count": 14,
   "id": "211435b6",
   "metadata": {
    "execution": {
     "iopub.execute_input": "2022-12-01T10:28:57.203545Z",
     "iopub.status.busy": "2022-12-01T10:28:57.203204Z",
     "iopub.status.idle": "2022-12-01T10:28:57.230562Z",
     "shell.execute_reply": "2022-12-01T10:28:57.228925Z"
    },
    "papermill": {
     "duration": 0.037276,
     "end_time": "2022-12-01T10:28:57.232624",
     "exception": false,
     "start_time": "2022-12-01T10:28:57.195348",
     "status": "completed"
    },
    "tags": []
   },
   "outputs": [
    {
     "name": "stdout",
     "output_type": "stream",
     "text": [
      "0.9937909158399136\n"
     ]
    }
   ],
   "source": [
    "# Print the overall accuracy\n",
    "print(metrics.accuracy_score(y_test,predictions))"
   ]
  },
  {
   "cell_type": "markdown",
   "id": "897ed0fa",
   "metadata": {
    "papermill": {
     "duration": 0.006377,
     "end_time": "2022-12-01T10:28:57.246575",
     "exception": false,
     "start_time": "2022-12-01T10:28:57.240198",
     "status": "completed"
    },
    "tags": []
   },
   "source": [
    "In other words, this model can be used to assess new data to examine whether the news is likely to be fake or not. However, there is one major issue with this dataset. It relies on the data it has been trained on. In other words, if fake news focused on a new topic emerges, the model is likely to struggle/its performance may decrease. \n",
    "\n",
    "It should be noted that this project utilises Spacy and Sklearn. However, alternative models such as BERT, that uses deep learning are also available ([Paialunga, 2021](https://towardsdatascience.com/fake-news-detection-with-machine-learning-using-python-3347d9899ad1)) .  \n",
    "\n",
    "# Using AI to identify fake news\n",
    "Fake news covers a broad array of topics from vaccinations to politics and gender equality. These topics can be identified through unsupervised learning methods. In this case assuming there are 6 different topics exists, key phrases can be singled out from similar articles. "
   ]
  },
  {
   "cell_type": "code",
   "execution_count": 15,
   "id": "6215daaa",
   "metadata": {
    "execution": {
     "iopub.execute_input": "2022-12-01T10:28:57.261562Z",
     "iopub.status.busy": "2022-12-01T10:28:57.261058Z",
     "iopub.status.idle": "2022-12-01T10:28:57.264879Z",
     "shell.execute_reply": "2022-12-01T10:28:57.264274Z"
    },
    "papermill": {
     "duration": 0.013291,
     "end_time": "2022-12-01T10:28:57.266506",
     "exception": false,
     "start_time": "2022-12-01T10:28:57.253215",
     "status": "completed"
    },
    "tags": []
   },
   "outputs": [],
   "source": [
    "from sklearn.feature_extraction.text import TfidfVectorizer"
   ]
  },
  {
   "cell_type": "code",
   "execution_count": 16,
   "id": "acc46fd9",
   "metadata": {
    "execution": {
     "iopub.execute_input": "2022-12-01T10:28:57.281360Z",
     "iopub.status.busy": "2022-12-01T10:28:57.281003Z",
     "iopub.status.idle": "2022-12-01T10:28:57.291693Z",
     "shell.execute_reply": "2022-12-01T10:28:57.290626Z"
    },
    "papermill": {
     "duration": 0.020029,
     "end_time": "2022-12-01T10:28:57.293366",
     "exception": false,
     "start_time": "2022-12-01T10:28:57.273337",
     "status": "completed"
    },
    "tags": []
   },
   "outputs": [
    {
     "data": {
      "text/html": [
       "<div>\n",
       "<style scoped>\n",
       "    .dataframe tbody tr th:only-of-type {\n",
       "        vertical-align: middle;\n",
       "    }\n",
       "\n",
       "    .dataframe tbody tr th {\n",
       "        vertical-align: top;\n",
       "    }\n",
       "\n",
       "    .dataframe thead th {\n",
       "        text-align: right;\n",
       "    }\n",
       "</style>\n",
       "<table border=\"1\" class=\"dataframe\">\n",
       "  <thead>\n",
       "    <tr style=\"text-align: right;\">\n",
       "      <th></th>\n",
       "      <th>title</th>\n",
       "      <th>text</th>\n",
       "      <th>subject</th>\n",
       "      <th>date</th>\n",
       "      <th>type</th>\n",
       "    </tr>\n",
       "  </thead>\n",
       "  <tbody>\n",
       "    <tr>\n",
       "      <th>0</th>\n",
       "      <td>Donald Trump Sends Out Embarrassing New Year’...</td>\n",
       "      <td>Donald Trump just couldn t wish all Americans ...</td>\n",
       "      <td>News</td>\n",
       "      <td>December 31, 2017</td>\n",
       "      <td>Fake</td>\n",
       "    </tr>\n",
       "    <tr>\n",
       "      <th>1</th>\n",
       "      <td>Drunk Bragging Trump Staffer Started Russian ...</td>\n",
       "      <td>House Intelligence Committee Chairman Devin Nu...</td>\n",
       "      <td>News</td>\n",
       "      <td>December 31, 2017</td>\n",
       "      <td>Fake</td>\n",
       "    </tr>\n",
       "    <tr>\n",
       "      <th>2</th>\n",
       "      <td>Sheriff David Clarke Becomes An Internet Joke...</td>\n",
       "      <td>On Friday, it was revealed that former Milwauk...</td>\n",
       "      <td>News</td>\n",
       "      <td>December 30, 2017</td>\n",
       "      <td>Fake</td>\n",
       "    </tr>\n",
       "    <tr>\n",
       "      <th>3</th>\n",
       "      <td>Trump Is So Obsessed He Even Has Obama’s Name...</td>\n",
       "      <td>On Christmas day, Donald Trump announced that ...</td>\n",
       "      <td>News</td>\n",
       "      <td>December 29, 2017</td>\n",
       "      <td>Fake</td>\n",
       "    </tr>\n",
       "    <tr>\n",
       "      <th>4</th>\n",
       "      <td>Pope Francis Just Called Out Donald Trump Dur...</td>\n",
       "      <td>Pope Francis used his annual Christmas Day mes...</td>\n",
       "      <td>News</td>\n",
       "      <td>December 25, 2017</td>\n",
       "      <td>Fake</td>\n",
       "    </tr>\n",
       "  </tbody>\n",
       "</table>\n",
       "</div>"
      ],
      "text/plain": [
       "                                               title  \\\n",
       "0   Donald Trump Sends Out Embarrassing New Year’...   \n",
       "1   Drunk Bragging Trump Staffer Started Russian ...   \n",
       "2   Sheriff David Clarke Becomes An Internet Joke...   \n",
       "3   Trump Is So Obsessed He Even Has Obama’s Name...   \n",
       "4   Pope Francis Just Called Out Donald Trump Dur...   \n",
       "\n",
       "                                                text subject  \\\n",
       "0  Donald Trump just couldn t wish all Americans ...    News   \n",
       "1  House Intelligence Committee Chairman Devin Nu...    News   \n",
       "2  On Friday, it was revealed that former Milwauk...    News   \n",
       "3  On Christmas day, Donald Trump announced that ...    News   \n",
       "4  Pope Francis used his annual Christmas Day mes...    News   \n",
       "\n",
       "                date  type  \n",
       "0  December 31, 2017  Fake  \n",
       "1  December 31, 2017  Fake  \n",
       "2  December 30, 2017  Fake  \n",
       "3  December 29, 2017  Fake  \n",
       "4  December 25, 2017  Fake  "
      ]
     },
     "execution_count": 16,
     "metadata": {},
     "output_type": "execute_result"
    }
   ],
   "source": [
    "fake.head()"
   ]
  },
  {
   "cell_type": "code",
   "execution_count": 17,
   "id": "23cf4abc",
   "metadata": {
    "execution": {
     "iopub.execute_input": "2022-12-01T10:28:57.310088Z",
     "iopub.status.busy": "2022-12-01T10:28:57.309697Z",
     "iopub.status.idle": "2022-12-01T10:29:03.463479Z",
     "shell.execute_reply": "2022-12-01T10:29:03.462487Z"
    },
    "papermill": {
     "duration": 6.166163,
     "end_time": "2022-12-01T10:29:03.466391",
     "exception": false,
     "start_time": "2022-12-01T10:28:57.300228",
     "status": "completed"
    },
    "tags": []
   },
   "outputs": [
    {
     "data": {
      "text/plain": [
       "<23481x60653 sparse matrix of type '<class 'numpy.float64'>'\n",
       "\twith 3610906 stored elements in Compressed Sparse Row format>"
      ]
     },
     "execution_count": 17,
     "metadata": {},
     "output_type": "execute_result"
    }
   ],
   "source": [
    "tfidf = TfidfVectorizer(max_df = 0.95, min_df=2, stop_words =\"english\")\n",
    "dtm = tfidf.fit_transform(fake[\"text\"])\n",
    "dtm"
   ]
  },
  {
   "cell_type": "code",
   "execution_count": 18,
   "id": "0f131a17",
   "metadata": {
    "execution": {
     "iopub.execute_input": "2022-12-01T10:29:03.482099Z",
     "iopub.status.busy": "2022-12-01T10:29:03.481716Z",
     "iopub.status.idle": "2022-12-01T10:29:10.137231Z",
     "shell.execute_reply": "2022-12-01T10:29:10.136235Z"
    },
    "papermill": {
     "duration": 6.665552,
     "end_time": "2022-12-01T10:29:10.139271",
     "exception": false,
     "start_time": "2022-12-01T10:29:03.473719",
     "status": "completed"
    },
    "tags": []
   },
   "outputs": [
    {
     "data": {
      "text/plain": [
       "NMF(init='nndsvda', n_components=6, random_state=100)"
      ]
     },
     "execution_count": 18,
     "metadata": {},
     "output_type": "execute_result"
    }
   ],
   "source": [
    "from sklearn.decomposition import NMF\n",
    "\n",
    "nmf_model = NMF(n_components = 6, init='nndsvda',random_state= 100)\n",
    "nmf_model.fit(dtm)"
   ]
  },
  {
   "cell_type": "code",
   "execution_count": 19,
   "id": "b7d617fc",
   "metadata": {
    "execution": {
     "iopub.execute_input": "2022-12-01T10:29:10.159804Z",
     "iopub.status.busy": "2022-12-01T10:29:10.159168Z",
     "iopub.status.idle": "2022-12-01T10:29:16.319110Z",
     "shell.execute_reply": "2022-12-01T10:29:16.318113Z"
    },
    "papermill": {
     "duration": 6.172297,
     "end_time": "2022-12-01T10:29:16.321244",
     "exception": false,
     "start_time": "2022-12-01T10:29:10.148947",
     "status": "completed"
    },
    "tags": []
   },
   "outputs": [
    {
     "data": {
      "text/plain": [
       "NMF(init='nndsvda', n_components=6, random_state=100)"
      ]
     },
     "execution_count": 19,
     "metadata": {},
     "output_type": "execute_result"
    }
   ],
   "source": [
    "nmf_model.fit(dtm)"
   ]
  },
  {
   "cell_type": "code",
   "execution_count": 20,
   "id": "7a3828a3",
   "metadata": {
    "execution": {
     "iopub.execute_input": "2022-12-01T10:29:16.341951Z",
     "iopub.status.busy": "2022-12-01T10:29:16.340880Z",
     "iopub.status.idle": "2022-12-01T10:29:21.173215Z",
     "shell.execute_reply": "2022-12-01T10:29:21.172101Z"
    },
    "papermill": {
     "duration": 4.844502,
     "end_time": "2022-12-01T10:29:21.175315",
     "exception": false,
     "start_time": "2022-12-01T10:29:16.330813",
     "status": "completed"
    },
    "tags": []
   },
   "outputs": [
    {
     "name": "stdout",
     "output_type": "stream",
     "text": [
      "THE TOP 15 WORDS FOR TOPIC #0\n",
      "['supporters', 'said', 'white', 'featured', 'people', 'like', 'republican', 'image', 'just', 'realdonaldtrump', 'twitter', 'campaign', 'president', 'donald', 'trump']\n",
      "\n",
      "\n",
      "THE TOP 15 WORDS FOR TOPIC #1\n",
      "['house', 'senate', 'america', 'republican', 'american', 'government', 'united', 'said', 'state', 'people', 'court', 'states', 'republicans', 'president', 'obama']\n",
      "\n",
      "\n",
      "THE TOP 15 WORDS FOR TOPIC #2\n",
      "['spore', 'pst', 'hesher', 'alternate', 'episode', 'tune', 'animals', 'broadcast', '00', 'join', 'radio', 'room', 'pm', 'acr', 'boiler']\n",
      "\n",
      "\n",
      "THE TOP 15 WORDS FOR TOPIC #3\n",
      "['party', 'candidate', 'presidential', 'secretary', 'election', 'state', 'bernie', 'democratic', 'email', 'emails', 'foundation', 'campaign', 'sanders', 'hillary', 'clinton']\n",
      "\n",
      "\n",
      "THE TOP 15 WORDS FOR TOPIC #4\n",
      "['officials', 'house', 'james', 'security', 'flynn', 'putin', 'information', 'director', 'news', 'intelligence', 'investigation', 'russian', 'comey', 'russia', 'fbi']\n",
      "\n",
      "\n",
      "THE TOP 15 WORDS FOR TOPIC #5\n",
      "['students', 'officer', 'twitter', 'school', 'man', 'com', 'lives', 'white', 'video', 'officers', 'said', 'gun', 'people', 'black', 'police']\n",
      "\n",
      "\n"
     ]
    }
   ],
   "source": [
    "for index,topic in enumerate(nmf_model.components_):\n",
    "    print(f'THE TOP 15 WORDS FOR TOPIC #{index}')\n",
    "    print([tfidf.get_feature_names_out ()[i] for i in topic.argsort()[-15:]])\n",
    "    print('\\n')"
   ]
  },
  {
   "cell_type": "code",
   "execution_count": 21,
   "id": "77fcabc0",
   "metadata": {
    "execution": {
     "iopub.execute_input": "2022-12-01T10:29:21.192018Z",
     "iopub.status.busy": "2022-12-01T10:29:21.191683Z",
     "iopub.status.idle": "2022-12-01T10:29:21.344477Z",
     "shell.execute_reply": "2022-12-01T10:29:21.343133Z"
    },
    "papermill": {
     "duration": 0.163653,
     "end_time": "2022-12-01T10:29:21.346838",
     "exception": false,
     "start_time": "2022-12-01T10:29:21.183185",
     "status": "completed"
    },
    "tags": []
   },
   "outputs": [],
   "source": [
    "topic_results = nmf_model.transform(dtm)\n",
    "topic_results.argmax(axis=1)\n",
    "fake[\"TOPICS\"]= topic_results.argmax(axis=1)\n"
   ]
  },
  {
   "cell_type": "code",
   "execution_count": 22,
   "id": "55e1b4cd",
   "metadata": {
    "execution": {
     "iopub.execute_input": "2022-12-01T10:29:21.365456Z",
     "iopub.status.busy": "2022-12-01T10:29:21.364164Z",
     "iopub.status.idle": "2022-12-01T10:29:21.380088Z",
     "shell.execute_reply": "2022-12-01T10:29:21.379116Z"
    },
    "papermill": {
     "duration": 0.027915,
     "end_time": "2022-12-01T10:29:21.382796",
     "exception": false,
     "start_time": "2022-12-01T10:29:21.354881",
     "status": "completed"
    },
    "tags": []
   },
   "outputs": [
    {
     "data": {
      "text/html": [
       "<div>\n",
       "<style scoped>\n",
       "    .dataframe tbody tr th:only-of-type {\n",
       "        vertical-align: middle;\n",
       "    }\n",
       "\n",
       "    .dataframe tbody tr th {\n",
       "        vertical-align: top;\n",
       "    }\n",
       "\n",
       "    .dataframe thead th {\n",
       "        text-align: right;\n",
       "    }\n",
       "</style>\n",
       "<table border=\"1\" class=\"dataframe\">\n",
       "  <thead>\n",
       "    <tr style=\"text-align: right;\">\n",
       "      <th></th>\n",
       "      <th>title</th>\n",
       "      <th>text</th>\n",
       "      <th>subject</th>\n",
       "      <th>date</th>\n",
       "      <th>type</th>\n",
       "      <th>TOPICS</th>\n",
       "    </tr>\n",
       "  </thead>\n",
       "  <tbody>\n",
       "    <tr>\n",
       "      <th>0</th>\n",
       "      <td>Donald Trump Sends Out Embarrassing New Year’...</td>\n",
       "      <td>Donald Trump just couldn t wish all Americans ...</td>\n",
       "      <td>News</td>\n",
       "      <td>December 31, 2017</td>\n",
       "      <td>Fake</td>\n",
       "      <td>0</td>\n",
       "    </tr>\n",
       "    <tr>\n",
       "      <th>1</th>\n",
       "      <td>Drunk Bragging Trump Staffer Started Russian ...</td>\n",
       "      <td>House Intelligence Committee Chairman Devin Nu...</td>\n",
       "      <td>News</td>\n",
       "      <td>December 31, 2017</td>\n",
       "      <td>Fake</td>\n",
       "      <td>4</td>\n",
       "    </tr>\n",
       "    <tr>\n",
       "      <th>2</th>\n",
       "      <td>Sheriff David Clarke Becomes An Internet Joke...</td>\n",
       "      <td>On Friday, it was revealed that former Milwauk...</td>\n",
       "      <td>News</td>\n",
       "      <td>December 30, 2017</td>\n",
       "      <td>Fake</td>\n",
       "      <td>5</td>\n",
       "    </tr>\n",
       "    <tr>\n",
       "      <th>3</th>\n",
       "      <td>Trump Is So Obsessed He Even Has Obama’s Name...</td>\n",
       "      <td>On Christmas day, Donald Trump announced that ...</td>\n",
       "      <td>News</td>\n",
       "      <td>December 29, 2017</td>\n",
       "      <td>Fake</td>\n",
       "      <td>0</td>\n",
       "    </tr>\n",
       "    <tr>\n",
       "      <th>4</th>\n",
       "      <td>Pope Francis Just Called Out Donald Trump Dur...</td>\n",
       "      <td>Pope Francis used his annual Christmas Day mes...</td>\n",
       "      <td>News</td>\n",
       "      <td>December 25, 2017</td>\n",
       "      <td>Fake</td>\n",
       "      <td>1</td>\n",
       "    </tr>\n",
       "    <tr>\n",
       "      <th>5</th>\n",
       "      <td>Racist Alabama Cops Brutalize Black Boy While...</td>\n",
       "      <td>The number of cases of cops brutalizing and ki...</td>\n",
       "      <td>News</td>\n",
       "      <td>December 25, 2017</td>\n",
       "      <td>Fake</td>\n",
       "      <td>5</td>\n",
       "    </tr>\n",
       "    <tr>\n",
       "      <th>6</th>\n",
       "      <td>Fresh Off The Golf Course, Trump Lashes Out A...</td>\n",
       "      <td>Donald Trump spent a good portion of his day a...</td>\n",
       "      <td>News</td>\n",
       "      <td>December 23, 2017</td>\n",
       "      <td>Fake</td>\n",
       "      <td>4</td>\n",
       "    </tr>\n",
       "    <tr>\n",
       "      <th>7</th>\n",
       "      <td>Trump Said Some INSANELY Racist Stuff Inside ...</td>\n",
       "      <td>In the wake of yet another court decision that...</td>\n",
       "      <td>News</td>\n",
       "      <td>December 23, 2017</td>\n",
       "      <td>Fake</td>\n",
       "      <td>0</td>\n",
       "    </tr>\n",
       "    <tr>\n",
       "      <th>8</th>\n",
       "      <td>Former CIA Director Slams Trump Over UN Bully...</td>\n",
       "      <td>Many people have raised the alarm regarding th...</td>\n",
       "      <td>News</td>\n",
       "      <td>December 22, 2017</td>\n",
       "      <td>Fake</td>\n",
       "      <td>0</td>\n",
       "    </tr>\n",
       "    <tr>\n",
       "      <th>9</th>\n",
       "      <td>WATCH: Brand-New Pro-Trump Ad Features So Muc...</td>\n",
       "      <td>Just when you might have thought we d get a br...</td>\n",
       "      <td>News</td>\n",
       "      <td>December 21, 2017</td>\n",
       "      <td>Fake</td>\n",
       "      <td>0</td>\n",
       "    </tr>\n",
       "  </tbody>\n",
       "</table>\n",
       "</div>"
      ],
      "text/plain": [
       "                                               title  \\\n",
       "0   Donald Trump Sends Out Embarrassing New Year’...   \n",
       "1   Drunk Bragging Trump Staffer Started Russian ...   \n",
       "2   Sheriff David Clarke Becomes An Internet Joke...   \n",
       "3   Trump Is So Obsessed He Even Has Obama’s Name...   \n",
       "4   Pope Francis Just Called Out Donald Trump Dur...   \n",
       "5   Racist Alabama Cops Brutalize Black Boy While...   \n",
       "6   Fresh Off The Golf Course, Trump Lashes Out A...   \n",
       "7   Trump Said Some INSANELY Racist Stuff Inside ...   \n",
       "8   Former CIA Director Slams Trump Over UN Bully...   \n",
       "9   WATCH: Brand-New Pro-Trump Ad Features So Muc...   \n",
       "\n",
       "                                                text subject  \\\n",
       "0  Donald Trump just couldn t wish all Americans ...    News   \n",
       "1  House Intelligence Committee Chairman Devin Nu...    News   \n",
       "2  On Friday, it was revealed that former Milwauk...    News   \n",
       "3  On Christmas day, Donald Trump announced that ...    News   \n",
       "4  Pope Francis used his annual Christmas Day mes...    News   \n",
       "5  The number of cases of cops brutalizing and ki...    News   \n",
       "6  Donald Trump spent a good portion of his day a...    News   \n",
       "7  In the wake of yet another court decision that...    News   \n",
       "8  Many people have raised the alarm regarding th...    News   \n",
       "9  Just when you might have thought we d get a br...    News   \n",
       "\n",
       "                date  type  TOPICS  \n",
       "0  December 31, 2017  Fake       0  \n",
       "1  December 31, 2017  Fake       4  \n",
       "2  December 30, 2017  Fake       5  \n",
       "3  December 29, 2017  Fake       0  \n",
       "4  December 25, 2017  Fake       1  \n",
       "5  December 25, 2017  Fake       5  \n",
       "6  December 23, 2017  Fake       4  \n",
       "7  December 23, 2017  Fake       0  \n",
       "8  December 22, 2017  Fake       0  \n",
       "9  December 21, 2017  Fake       0  "
      ]
     },
     "execution_count": 22,
     "metadata": {},
     "output_type": "execute_result"
    }
   ],
   "source": [
    "fake.head(10)"
   ]
  },
  {
   "cell_type": "markdown",
   "id": "86bd6ce9",
   "metadata": {
    "papermill": {
     "duration": 0.007674,
     "end_time": "2022-12-01T10:29:21.398688",
     "exception": false,
     "start_time": "2022-12-01T10:29:21.391014",
     "status": "completed"
    },
    "tags": []
   },
   "source": [
    "This process indicates that major topics includes:\n",
    "1. Trump supporters\n",
    "2. US politics\n",
    "3. Media\n",
    "4. US election\n",
    "5. International politics\n",
    "6. Education\n",
    "\n",
    "This process can indicate where active investigations should take place to curb the spread of fake news. However, this process will not be able to assess in identifying new areas of focus unless an up-to-date catalogue is routinely provided. \n",
    "\n",
    "# Further Concerns\n",
    "One major solution that individuals revert to is the notion that as the issues of fake news grows, individuals will become better adopt at identifying it and acting accordingly. However this entails training individuals to go against their default cognitive biases. In addition, whilst individuals may be aware that photoshop is frequently used in images, its impact on mental health remains profound. ([Harvard, 2020](https://www.hsph.harvard.edu/news/hsph-in-the-news/photoshops-damaging-effects/)) Moreover, educating a large population who are no longer in education can also be challenging. \n",
    "\n",
    "Likewise, the issues covered only cover the information which is in the public domain. It does not cover the growing concerns surrounding echo chambers and private groups where fake news is able to freely circulate ([DW Documentary, 2022](https://www.youtube.com/watch?v=HDtFpGfORpE&list=WL&index=5)). \n",
    "\n",
    "That said, it is likely that the key tools to combat this issue lies in the development of AI and its utility on key social networking sites. Any short term gains made by fake news is unlike to be a product with long term value and a robust campaign to tackle it is required. \n",
    "\n",
    "\n",
    "# Conclusion \n",
    "Fake news is a major issue affecting society. This is unlikely to alter in the near future especially as technology such as deep fakes continue to develop ([Schwartz, 2018](https://www.theguardian.com/technology/2018/nov/12/deep-fakes-fake-news-truth)).  Subsequently, there is a strong need to find robust methods to combat such information. In order to do so, there is a strong need to identify possible fake news so it may be investigated and appropriate action taken. For this, tools such as machine learning highlighted here may serve a vital role. "
   ]
  }
 ],
 "metadata": {
  "kernelspec": {
   "display_name": "Python 3",
   "language": "python",
   "name": "python3"
  },
  "language_info": {
   "codemirror_mode": {
    "name": "ipython",
    "version": 3
   },
   "file_extension": ".py",
   "mimetype": "text/x-python",
   "name": "python",
   "nbconvert_exporter": "python",
   "pygments_lexer": "ipython3",
   "version": "3.7.12"
  },
  "papermill": {
   "default_parameters": {},
   "duration": 49.453171,
   "end_time": "2022-12-01T10:29:22.128471",
   "environment_variables": {},
   "exception": null,
   "input_path": "__notebook__.ipynb",
   "output_path": "__notebook__.ipynb",
   "parameters": {},
   "start_time": "2022-12-01T10:28:32.675300",
   "version": "2.3.4"
  }
 },
 "nbformat": 4,
 "nbformat_minor": 5
}
