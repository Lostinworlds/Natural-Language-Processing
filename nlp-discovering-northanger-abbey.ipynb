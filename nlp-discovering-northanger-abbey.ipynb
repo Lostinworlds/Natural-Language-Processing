{
 "cells": [
  {
   "cell_type": "markdown",
   "id": "89daab77",
   "metadata": {
    "papermill": {
     "duration": 0.008892,
     "end_time": "2022-11-27T21:24:27.393878",
     "exception": false,
     "start_time": "2022-11-27T21:24:27.384986",
     "status": "completed"
    },
    "tags": []
   },
   "source": [
    "# Introduction\n",
    "As a bibliophile and a former English literature student, the use of language has been of keen fascination. Likewise for those in data science and AI, language has of interested, with the field of Natural Language Processing. It can be used for various aspects such as breaking down key test to its main components to understanding the sentiments behind test and groping text based on their related topics. Such developments have facilitated the growth in products such as chat boxes. \n",
    "\n",
    "In this project, its fundamentals of extracting key aspects from text and tokenisation will be examined using the library Spacy. \n",
    "\n",
    "# Overview \n",
    "At the centre of this project is the novel  Northanger Abbey by Jane Austen. It was first published in 1817 ([Sparknotes, 2022](https://www.sparknotes.com/lit/northangerabbey/facts/)) . It is a coming of age tale focusing on Catherine Morland, who is fascinated by gothic novels, and how she navigates her world([Sparknotes, 2022](https://www.sparknotes.com/lit/northangerabbey/summary/)). \n",
    "\n",
    "A copywrite free edition of the tale is accessible via Project Gutenberg ([2022](https://www.gutenberg.org/files/121/121-h/121-h.htm)) and consists of 31 chapters. This copy has additional text before and after the tale including notes on the text. As such, these may be dropped from the review. "
   ]
  },
  {
   "cell_type": "code",
   "execution_count": 1,
   "id": "5c79859c",
   "metadata": {
    "_cell_guid": "b1076dfc-b9ad-4769-8c92-a6c4dae69d19",
    "_kg_hide-input": true,
    "_uuid": "8f2839f25d086af736a60e9eeb907d3b93b6e0e5",
    "execution": {
     "iopub.execute_input": "2022-11-27T21:24:27.411638Z",
     "iopub.status.busy": "2022-11-27T21:24:27.410807Z",
     "iopub.status.idle": "2022-11-27T21:24:59.179898Z",
     "shell.execute_reply": "2022-11-27T21:24:59.178330Z"
    },
    "papermill": {
     "duration": 31.791186,
     "end_time": "2022-11-27T21:24:59.193088",
     "exception": false,
     "start_time": "2022-11-27T21:24:27.401902",
     "status": "completed"
    },
    "tags": []
   },
   "outputs": [
    {
     "name": "stdout",
     "output_type": "stream",
     "text": [
      "That said, this novel has approx. 98737 words and 3542 sentences\n"
     ]
    }
   ],
   "source": [
    "# import spacy for NLP\n",
    "import spacy\n",
    "nlp = spacy.load(\"en_core_web_sm\")\n",
    "\n",
    "# import os for loading kaggle dataset \n",
    "import os        \n",
    "\n",
    "# open dataset\n",
    "with open (\"/kaggle/input/northanger-abbey-by-jane-austen/The Project Gutenberg eBook of Northanger Abbey by Jane Austen.txt\") as f:\n",
    "    doc = nlp(f.read())\n",
    "\n",
    "# crop the doc to exclude unwanted text\n",
    "main_text = doc[468:-3836]\n",
    "\n",
    "# seperate main_text by sentences \n",
    "doc_sentences = [sen for sen in main_text.sents]\n",
    "\n",
    "\n",
    "print(\"That said, this novel has approx.\", len(main_text), \"words and\",len(doc_sentences), \"sentences\")"
   ]
  },
  {
   "cell_type": "code",
   "execution_count": 2,
   "id": "b7bc08d6",
   "metadata": {
    "_kg_hide-input": true,
    "execution": {
     "iopub.execute_input": "2022-11-27T21:24:59.211004Z",
     "iopub.status.busy": "2022-11-27T21:24:59.210185Z",
     "iopub.status.idle": "2022-11-27T21:24:59.218123Z",
     "shell.execute_reply": "2022-11-27T21:24:59.216481Z"
    },
    "papermill": {
     "duration": 0.019843,
     "end_time": "2022-11-27T21:24:59.220591",
     "exception": false,
     "start_time": "2022-11-27T21:24:59.200748",
     "status": "completed"
    },
    "tags": []
   },
   "outputs": [
    {
     "name": "stdout",
     "output_type": "stream",
     "text": [
      "The first sentence of this novel is as follows: \n",
      "\n",
      " Her situation in life, the\n",
      "character of her father and mother, her own person and disposition,\n",
      "were all equally against her.\n"
     ]
    }
   ],
   "source": [
    "print(\"The first sentence of this novel is as follows: \\n\\n\", doc_sentences[1].text)"
   ]
  },
  {
   "cell_type": "markdown",
   "id": "089098c6",
   "metadata": {
    "papermill": {
     "duration": 0.007178,
     "end_time": "2022-11-27T21:24:59.235670",
     "exception": false,
     "start_time": "2022-11-27T21:24:59.228492",
     "status": "completed"
    },
    "tags": []
   },
   "source": [
    "# Key features of the text \n",
    "The Spacy library is prebuilt to identify key features in the sentence, name entitles. Applying this to the novel reveals the following, identifying aspects such as names, references to numbers and so forth. "
   ]
  },
  {
   "cell_type": "code",
   "execution_count": 3,
   "id": "5314bc0f",
   "metadata": {
    "_kg_hide-input": true,
    "execution": {
     "iopub.execute_input": "2022-11-27T21:24:59.256414Z",
     "iopub.status.busy": "2022-11-27T21:24:59.255693Z",
     "iopub.status.idle": "2022-11-27T21:24:59.282699Z",
     "shell.execute_reply": "2022-11-27T21:24:59.281295Z"
    },
    "papermill": {
     "duration": 0.042323,
     "end_time": "2022-11-27T21:24:59.285353",
     "exception": false,
     "start_time": "2022-11-27T21:24:59.243030",
     "status": "completed"
    },
    "tags": []
   },
   "outputs": [
    {
     "data": {
      "text/html": [
       "<span class=\"tex2jax_ignore\"><div class=\"entities\" style=\"line-height: 2.5; direction: ltr\">No one who had ever seen \n",
       "<mark class=\"entity\" style=\"background: #aa9cfc; padding: 0.45em 0.6em; margin: 0 0.25em; line-height: 1; border-radius: 0.35em;\">\n",
       "    Catherine Morland\n",
       "    <span style=\"font-size: 0.8em; font-weight: bold; line-height: 1; border-radius: 0.35em; vertical-align: middle; margin-left: 0.5rem\">PERSON</span>\n",
       "</mark>\n",
       " in her infancy would have</br>supposed her born to be an heroine. Her situation in life, the</br>character of her father and mother, her own person and disposition,</br>were all equally against her. Her father was a clergyman, without being</br>neglected, or poor, and a very respectable man, though his name was</br>\n",
       "<mark class=\"entity\" style=\"background: #aa9cfc; padding: 0.45em 0.6em; margin: 0 0.25em; line-height: 1; border-radius: 0.35em;\">\n",
       "    Richard\n",
       "    <span style=\"font-size: 0.8em; font-weight: bold; line-height: 1; border-radius: 0.35em; vertical-align: middle; margin-left: 0.5rem\">PERSON</span>\n",
       "</mark>\n",
       "—and he had never been handsome. He had a considerable</br>independence besides \n",
       "<mark class=\"entity\" style=\"background: #e4e7d2; padding: 0.45em 0.6em; margin: 0 0.25em; line-height: 1; border-radius: 0.35em;\">\n",
       "    two\n",
       "    <span style=\"font-size: 0.8em; font-weight: bold; line-height: 1; border-radius: 0.35em; vertical-align: middle; margin-left: 0.5rem\">CARDINAL</span>\n",
       "</mark>\n",
       " good livings—and he was not in the least</br>addicted to locking up his daughters. Her mother was a woman of useful</br>plain sense, with a good temper, and, what is more remarkable, with a</br>good constitution. She had three sons before \n",
       "<mark class=\"entity\" style=\"background: #aa9cfc; padding: 0.45em 0.6em; margin: 0 0.25em; line-height: 1; border-radius: 0.35em;\">\n",
       "    Catherine\n",
       "    <span style=\"font-size: 0.8em; font-weight: bold; line-height: 1; border-radius: 0.35em; vertical-align: middle; margin-left: 0.5rem\">PERSON</span>\n",
       "</mark>\n",
       " was born; and</br>instead of dying in bringing the latter into the world, as anybody</br>might expect, she still lived on—lived to have \n",
       "<mark class=\"entity\" style=\"background: #e4e7d2; padding: 0.45em 0.6em; margin: 0 0.25em; line-height: 1; border-radius: 0.35em;\">\n",
       "    six\n",
       "    <span style=\"font-size: 0.8em; font-weight: bold; line-height: 1; border-radius: 0.35em; vertical-align: middle; margin-left: 0.5rem\">CARDINAL</span>\n",
       "</mark>\n",
       " children more—to see</br>them growing up around her, and to enjoy excellent health herself. A</br>family of \n",
       "<mark class=\"entity\" style=\"background: #e4e7d2; padding: 0.45em 0.6em; margin: 0 0.25em; line-height: 1; border-radius: 0.35em;\">\n",
       "    ten\n",
       "    <span style=\"font-size: 0.8em; font-weight: bold; line-height: 1; border-radius: 0.35em; vertical-align: middle; margin-left: 0.5rem\">CARDINAL</span>\n",
       "</mark>\n",
       " children will be always called a fine family, where there</br>are heads and arms and legs enough for the number; but the \n",
       "<mark class=\"entity\" style=\"background: #bfeeb7; padding: 0.45em 0.6em; margin: 0 0.25em; line-height: 1; border-radius: 0.35em;\">\n",
       "    Morlands\n",
       "    <span style=\"font-size: 0.8em; font-weight: bold; line-height: 1; border-radius: 0.35em; vertical-align: middle; margin-left: 0.5rem\">PRODUCT</span>\n",
       "</mark>\n",
       " had</br>little other right to the word, for they were in general very plain,</br>and \n",
       "<mark class=\"entity\" style=\"background: #aa9cfc; padding: 0.45em 0.6em; margin: 0 0.25em; line-height: 1; border-radius: 0.35em;\">\n",
       "    Catherine\n",
       "    <span style=\"font-size: 0.8em; font-weight: bold; line-height: 1; border-radius: 0.35em; vertical-align: middle; margin-left: 0.5rem\">PERSON</span>\n",
       "</mark>\n",
       ", for \n",
       "<mark class=\"entity\" style=\"background: #bfe1d9; padding: 0.45em 0.6em; margin: 0 0.25em; line-height: 1; border-radius: 0.35em;\">\n",
       "    many years\n",
       "    <span style=\"font-size: 0.8em; font-weight: bold; line-height: 1; border-radius: 0.35em; vertical-align: middle; margin-left: 0.5rem\">DATE</span>\n",
       "</mark>\n",
       " of </div></span>"
      ],
      "text/plain": [
       "<IPython.core.display.HTML object>"
      ]
     },
     "metadata": {},
     "output_type": "display_data"
    }
   ],
   "source": [
    "from spacy import displacy\n",
    "\n",
    "# display name entitles\n",
    "displacy.render(main_text[3:253], style = \"ent\", jupyter = True, )"
   ]
  },
  {
   "cell_type": "markdown",
   "id": "cd34d572",
   "metadata": {
    "papermill": {
     "duration": 0.007572,
     "end_time": "2022-11-27T21:24:59.301143",
     "exception": false,
     "start_time": "2022-11-27T21:24:59.293571",
     "status": "completed"
    },
    "tags": []
   },
   "source": [
    "The scope of this can be extended to include references to family as in this context they refer to characters. That said, it should be noted that this feature is applied in this form only to text that has not been categorised in other ways. \n",
    "\n",
    "This lead to text as follows: "
   ]
  },
  {
   "cell_type": "code",
   "execution_count": 4,
   "id": "be52ffcc",
   "metadata": {
    "_kg_hide-input": true,
    "execution": {
     "iopub.execute_input": "2022-11-27T21:24:59.319335Z",
     "iopub.status.busy": "2022-11-27T21:24:59.318543Z",
     "iopub.status.idle": "2022-11-27T21:25:06.882509Z",
     "shell.execute_reply": "2022-11-27T21:25:06.881272Z"
    },
    "papermill": {
     "duration": 7.576579,
     "end_time": "2022-11-27T21:25:06.885542",
     "exception": false,
     "start_time": "2022-11-27T21:24:59.308963",
     "status": "completed"
    },
    "tags": []
   },
   "outputs": [
    {
     "data": {
      "text/html": [
       "<span class=\"tex2jax_ignore\"><div class=\"entities\" style=\"line-height: 2.5; direction: ltr\">No one who had ever seen \n",
       "<mark class=\"entity\" style=\"background: #aa9cfc; padding: 0.45em 0.6em; margin: 0 0.25em; line-height: 1; border-radius: 0.35em;\">\n",
       "    Catherine Morland\n",
       "    <span style=\"font-size: 0.8em; font-weight: bold; line-height: 1; border-radius: 0.35em; vertical-align: middle; margin-left: 0.5rem\">PERSON</span>\n",
       "</mark>\n",
       " in her infancy would have</br>supposed her born to be an heroine. Her situation in life, the</br>character of her \n",
       "<mark class=\"entity\" style=\"background: #aa9cfc; padding: 0.45em 0.6em; margin: 0 0.25em; line-height: 1; border-radius: 0.35em;\">\n",
       "    father\n",
       "    <span style=\"font-size: 0.8em; font-weight: bold; line-height: 1; border-radius: 0.35em; vertical-align: middle; margin-left: 0.5rem\">PERSON</span>\n",
       "</mark>\n",
       " and \n",
       "<mark class=\"entity\" style=\"background: #aa9cfc; padding: 0.45em 0.6em; margin: 0 0.25em; line-height: 1; border-radius: 0.35em;\">\n",
       "    mother\n",
       "    <span style=\"font-size: 0.8em; font-weight: bold; line-height: 1; border-radius: 0.35em; vertical-align: middle; margin-left: 0.5rem\">PERSON</span>\n",
       "</mark>\n",
       ", her own person and disposition,</br>were all equally against her. Her \n",
       "<mark class=\"entity\" style=\"background: #aa9cfc; padding: 0.45em 0.6em; margin: 0 0.25em; line-height: 1; border-radius: 0.35em;\">\n",
       "    father\n",
       "    <span style=\"font-size: 0.8em; font-weight: bold; line-height: 1; border-radius: 0.35em; vertical-align: middle; margin-left: 0.5rem\">PERSON</span>\n",
       "</mark>\n",
       " was a clergyman, without being</br>neglected, or poor, and a very respectable man, though his name was</br>\n",
       "<mark class=\"entity\" style=\"background: #aa9cfc; padding: 0.45em 0.6em; margin: 0 0.25em; line-height: 1; border-radius: 0.35em;\">\n",
       "    Richard\n",
       "    <span style=\"font-size: 0.8em; font-weight: bold; line-height: 1; border-radius: 0.35em; vertical-align: middle; margin-left: 0.5rem\">PERSON</span>\n",
       "</mark>\n",
       "—and he had never been handsome. He had a considerable</br>independence besides \n",
       "<mark class=\"entity\" style=\"background: #e4e7d2; padding: 0.45em 0.6em; margin: 0 0.25em; line-height: 1; border-radius: 0.35em;\">\n",
       "    two\n",
       "    <span style=\"font-size: 0.8em; font-weight: bold; line-height: 1; border-radius: 0.35em; vertical-align: middle; margin-left: 0.5rem\">CARDINAL</span>\n",
       "</mark>\n",
       " good livings—and he was not in the least</br>addicted to locking up his \n",
       "<mark class=\"entity\" style=\"background: #aa9cfc; padding: 0.45em 0.6em; margin: 0 0.25em; line-height: 1; border-radius: 0.35em;\">\n",
       "    daughters\n",
       "    <span style=\"font-size: 0.8em; font-weight: bold; line-height: 1; border-radius: 0.35em; vertical-align: middle; margin-left: 0.5rem\">PERSON</span>\n",
       "</mark>\n",
       ". Her \n",
       "<mark class=\"entity\" style=\"background: #aa9cfc; padding: 0.45em 0.6em; margin: 0 0.25em; line-height: 1; border-radius: 0.35em;\">\n",
       "    mother\n",
       "    <span style=\"font-size: 0.8em; font-weight: bold; line-height: 1; border-radius: 0.35em; vertical-align: middle; margin-left: 0.5rem\">PERSON</span>\n",
       "</mark>\n",
       " was a woman of useful</br>plain sense, with a good temper, and, what is more remarkable, with a</br>good constitution. She had three \n",
       "<mark class=\"entity\" style=\"background: #aa9cfc; padding: 0.45em 0.6em; margin: 0 0.25em; line-height: 1; border-radius: 0.35em;\">\n",
       "    sons\n",
       "    <span style=\"font-size: 0.8em; font-weight: bold; line-height: 1; border-radius: 0.35em; vertical-align: middle; margin-left: 0.5rem\">PERSON</span>\n",
       "</mark>\n",
       " before \n",
       "<mark class=\"entity\" style=\"background: #aa9cfc; padding: 0.45em 0.6em; margin: 0 0.25em; line-height: 1; border-radius: 0.35em;\">\n",
       "    Catherine\n",
       "    <span style=\"font-size: 0.8em; font-weight: bold; line-height: 1; border-radius: 0.35em; vertical-align: middle; margin-left: 0.5rem\">PERSON</span>\n",
       "</mark>\n",
       " was born; and</br>instead of dying in bringing the latter into the world, as anybody</br>might expect, she still lived on—lived to have \n",
       "<mark class=\"entity\" style=\"background: #e4e7d2; padding: 0.45em 0.6em; margin: 0 0.25em; line-height: 1; border-radius: 0.35em;\">\n",
       "    six\n",
       "    <span style=\"font-size: 0.8em; font-weight: bold; line-height: 1; border-radius: 0.35em; vertical-align: middle; margin-left: 0.5rem\">CARDINAL</span>\n",
       "</mark>\n",
       " children more—to see</br>them growing up around her, and to enjoy excellent health herself. A</br>family of \n",
       "<mark class=\"entity\" style=\"background: #e4e7d2; padding: 0.45em 0.6em; margin: 0 0.25em; line-height: 1; border-radius: 0.35em;\">\n",
       "    ten\n",
       "    <span style=\"font-size: 0.8em; font-weight: bold; line-height: 1; border-radius: 0.35em; vertical-align: middle; margin-left: 0.5rem\">CARDINAL</span>\n",
       "</mark>\n",
       " children will be always called a fine family, where there</br>are heads and arms and legs enough for the number; but the \n",
       "<mark class=\"entity\" style=\"background: #bfeeb7; padding: 0.45em 0.6em; margin: 0 0.25em; line-height: 1; border-radius: 0.35em;\">\n",
       "    Morlands\n",
       "    <span style=\"font-size: 0.8em; font-weight: bold; line-height: 1; border-radius: 0.35em; vertical-align: middle; margin-left: 0.5rem\">PRODUCT</span>\n",
       "</mark>\n",
       " had</br>little other right to the word, for they were in general very plain,</br>and \n",
       "<mark class=\"entity\" style=\"background: #aa9cfc; padding: 0.45em 0.6em; margin: 0 0.25em; line-height: 1; border-radius: 0.35em;\">\n",
       "    Catherine\n",
       "    <span style=\"font-size: 0.8em; font-weight: bold; line-height: 1; border-radius: 0.35em; vertical-align: middle; margin-left: 0.5rem\">PERSON</span>\n",
       "</mark>\n",
       ", for \n",
       "<mark class=\"entity\" style=\"background: #bfe1d9; padding: 0.45em 0.6em; margin: 0 0.25em; line-height: 1; border-radius: 0.35em;\">\n",
       "    many years\n",
       "    <span style=\"font-size: 0.8em; font-weight: bold; line-height: 1; border-radius: 0.35em; vertical-align: middle; margin-left: 0.5rem\">DATE</span>\n",
       "</mark>\n",
       " of </div></span>"
      ],
      "text/plain": [
       "<IPython.core.display.HTML object>"
      ]
     },
     "metadata": {},
     "output_type": "display_data"
    }
   ],
   "source": [
    "from spacy.matcher import Matcher\n",
    "matcher = Matcher(nlp.vocab)\n",
    "\n",
    "# def to find matching text\n",
    "def find_match (text, pattern, pattern_name):\n",
    "    matcher.add(pattern_name, pattern)\n",
    "    found_matches = matcher(text)\n",
    "    return found_matches\n",
    "\n",
    "# patterns to find\n",
    "pattern_1 = [{\"LOWER\": \"son\"}]\n",
    "pattern_2 = [{\"LOWER\": \"sons\"}]\n",
    "pattern_3 = [{\"LOWER\": \"father\"}]\n",
    "pattern_4 = [{\"LOWER\": \"mother\"}]\n",
    "pattern_5 = [{\"LOWER\": \"daughter\"}]\n",
    "pattern_6 = [{\"LOWER\": \"daughters\"}]\n",
    "\n",
    "# find matching words\n",
    "family  = find_match(doc, [pattern_1,pattern_2, pattern_3, pattern_4, pattern_5, pattern_6], \"family\" )\n",
    "\n",
    "\n",
    "# reclassify family to persons \n",
    "from spacy.tokens import Span\n",
    "\n",
    "family_person = []\n",
    "for match_id, start , end in family: \n",
    "    family_person.append(start)\n",
    "\n",
    "for i in family_person: \n",
    "    try:\n",
    "        new_ent = Span(doc, i, (i+1), \"PERSON\")\n",
    "        doc.ents = list(doc.ents)+[new_ent]\n",
    "    except:\n",
    "        pass\n",
    "#note errors occure if a family member is already classed as a specific name entity \n",
    "\n",
    "#apply new name entity on main text\n",
    "main_text = doc[468:-3836]\n",
    "\n",
    "#display name entities\n",
    "displacy.render(main_text[3:253] , style = \"ent\", jupyter = True, )\n",
    "\n",
    "# remove family from find\n",
    "matcher.remove(\"family\")"
   ]
  },
  {
   "cell_type": "markdown",
   "id": "bccbfaa7",
   "metadata": {
    "papermill": {
     "duration": 0.007773,
     "end_time": "2022-11-27T21:25:06.901585",
     "exception": false,
     "start_time": "2022-11-27T21:25:06.893812",
     "status": "completed"
    },
    "tags": []
   },
   "source": [
    "# Tokenisation\n",
    "An additional feature of Spacy is to tokenise, categorise, words in a text. When applied to the second sentence of the novel this leads to the following chapter markers can be removed as follows."
   ]
  },
  {
   "cell_type": "code",
   "execution_count": 5,
   "id": "3e079075",
   "metadata": {
    "_kg_hide-input": true,
    "execution": {
     "iopub.execute_input": "2022-11-27T21:25:06.919328Z",
     "iopub.status.busy": "2022-11-27T21:25:06.918885Z",
     "iopub.status.idle": "2022-11-27T21:25:06.926407Z",
     "shell.execute_reply": "2022-11-27T21:25:06.925021Z"
    },
    "papermill": {
     "duration": 0.019795,
     "end_time": "2022-11-27T21:25:06.929345",
     "exception": false,
     "start_time": "2022-11-27T21:25:06.909550",
     "status": "completed"
    },
    "tags": []
   },
   "outputs": [
    {
     "name": "stdout",
     "output_type": "stream",
     "text": [
      "Her             PRON  PRP$  poss      her             pronoun, possessive\n",
      "situation       NOUN  NN    advcl     situation       noun, singular or mass\n",
      "in              ADP   IN    prep      in              conjunction, subordinating or preposition\n",
      "life            NOUN  NN    pobj      life            noun, singular or mass\n",
      ",               PUNCT ,     punct     ,               punctuation mark, comma\n",
      "the             DET   DT    det       the             determiner\n",
      "\n",
      "               SPACE _SP   dep       \n",
      "               whitespace\n",
      "character       NOUN  NN    nsubj     character       noun, singular or mass\n",
      "of              ADP   IN    prep      of              conjunction, subordinating or preposition\n",
      "her             PRON  PRP$  poss      her             pronoun, possessive\n",
      "father          NOUN  NN    pobj      father          noun, singular or mass\n",
      "and             CCONJ CC    cc        and             conjunction, coordinating\n",
      "mother          NOUN  NN    conj      mother          noun, singular or mass\n",
      ",               PUNCT ,     punct     ,               punctuation mark, comma\n",
      "her             PRON  PRP$  poss      her             pronoun, possessive\n",
      "own             ADJ   JJ    amod      own             adjective (English), other noun-modifier (Chinese)\n",
      "person          NOUN  NN    conj      person          noun, singular or mass\n",
      "and             CCONJ CC    cc        and             conjunction, coordinating\n",
      "disposition     NOUN  NN    conj      disposition     noun, singular or mass\n",
      ",               PUNCT ,     punct     ,               punctuation mark, comma\n",
      "\n",
      "               SPACE _SP   dep       \n",
      "               whitespace\n",
      "were            AUX   VBD   ROOT      be              verb, past tense\n",
      "all             PRON  DT    dep       all             determiner\n",
      "equally         ADV   RB    advmod    equally         adverb\n",
      "against         ADP   IN    prep      against         conjunction, subordinating or preposition\n",
      "her             PRON  PRP   pobj      she             pronoun, personal\n",
      ".               PUNCT .     punct     .               punctuation mark, sentence closer\n"
     ]
    }
   ],
   "source": [
    "# tokenise objects in the second sentence\n",
    "for token in doc_sentences[1]:  \n",
    "    print(f\"{token.text:{15}} {token.pos_:{5}} {token.tag_:{5}} {token.dep_:{10}}{token.lemma_:{15}} {spacy.explain(token.tag_)}\")"
   ]
  },
  {
   "cell_type": "markdown",
   "id": "48e9b979",
   "metadata": {
    "execution": {
     "iopub.execute_input": "2022-11-27T16:53:09.482913Z",
     "iopub.status.busy": "2022-11-27T16:53:09.482458Z",
     "iopub.status.idle": "2022-11-27T16:53:09.489376Z",
     "shell.execute_reply": "2022-11-27T16:53:09.488016Z",
     "shell.execute_reply.started": "2022-11-27T16:53:09.482877Z"
    },
    "papermill": {
     "duration": 0.007928,
     "end_time": "2022-11-27T21:25:06.945763",
     "exception": false,
     "start_time": "2022-11-27T21:25:06.937835",
     "status": "completed"
    },
    "tags": []
   },
   "source": [
    "This can enable the user to assess how various words and grammar structures are used in a text. However as chapter breaks are currently included in this text, it will need to be removed. \n",
    "Tokenising the remaining words leads to the following table which consists of 102915 tokens. "
   ]
  },
  {
   "cell_type": "code",
   "execution_count": 6,
   "id": "0a58eb32",
   "metadata": {
    "_kg_hide-input": true,
    "execution": {
     "iopub.execute_input": "2022-11-27T21:25:06.963984Z",
     "iopub.status.busy": "2022-11-27T21:25:06.963578Z",
     "iopub.status.idle": "2022-11-27T21:34:08.534012Z",
     "shell.execute_reply": "2022-11-27T21:34:08.532578Z"
    },
    "papermill": {
     "duration": 541.59016,
     "end_time": "2022-11-27T21:34:08.544023",
     "exception": false,
     "start_time": "2022-11-27T21:25:06.953863",
     "status": "completed"
    },
    "tags": []
   },
   "outputs": [
    {
     "data": {
      "text/html": [
       "<div>\n",
       "<style scoped>\n",
       "    .dataframe tbody tr th:only-of-type {\n",
       "        vertical-align: middle;\n",
       "    }\n",
       "\n",
       "    .dataframe tbody tr th {\n",
       "        vertical-align: top;\n",
       "    }\n",
       "\n",
       "    .dataframe thead th {\n",
       "        text-align: right;\n",
       "    }\n",
       "</style>\n",
       "<table border=\"1\" class=\"dataframe\">\n",
       "  <thead>\n",
       "    <tr style=\"text-align: right;\">\n",
       "      <th></th>\n",
       "      <th>TEXT</th>\n",
       "      <th>POS</th>\n",
       "      <th>tag</th>\n",
       "      <th>DEP</th>\n",
       "      <th>Lemma</th>\n",
       "      <th>EXPLAIN</th>\n",
       "    </tr>\n",
       "  </thead>\n",
       "  <tbody>\n",
       "    <tr>\n",
       "      <th>0</th>\n",
       "      <td>\\n\\n\\n</td>\n",
       "      <td>SPACE</td>\n",
       "      <td>_SP</td>\n",
       "      <td>dep</td>\n",
       "      <td>\\n\\n\\n</td>\n",
       "      <td>whitespace</td>\n",
       "    </tr>\n",
       "    <tr>\n",
       "      <th>1</th>\n",
       "      <td>No</td>\n",
       "      <td>DET</td>\n",
       "      <td>DT</td>\n",
       "      <td>det</td>\n",
       "      <td>no</td>\n",
       "      <td>determiner</td>\n",
       "    </tr>\n",
       "    <tr>\n",
       "      <th>2</th>\n",
       "      <td>one</td>\n",
       "      <td>NOUN</td>\n",
       "      <td>NN</td>\n",
       "      <td>nsubj</td>\n",
       "      <td>one</td>\n",
       "      <td>noun, singular or mass</td>\n",
       "    </tr>\n",
       "    <tr>\n",
       "      <th>3</th>\n",
       "      <td>who</td>\n",
       "      <td>PRON</td>\n",
       "      <td>WP</td>\n",
       "      <td>nsubj</td>\n",
       "      <td>who</td>\n",
       "      <td>wh-pronoun, personal</td>\n",
       "    </tr>\n",
       "    <tr>\n",
       "      <th>4</th>\n",
       "      <td>had</td>\n",
       "      <td>AUX</td>\n",
       "      <td>VBD</td>\n",
       "      <td>aux</td>\n",
       "      <td>have</td>\n",
       "      <td>verb, past tense</td>\n",
       "    </tr>\n",
       "  </tbody>\n",
       "</table>\n",
       "</div>"
      ],
      "text/plain": [
       "     TEXT    POS  tag    DEP   Lemma                 EXPLAIN\n",
       "0  \\n\\n\\n  SPACE  _SP    dep  \\n\\n\\n              whitespace\n",
       "1      No    DET   DT    det      no              determiner\n",
       "2     one   NOUN   NN  nsubj     one  noun, singular or mass\n",
       "3     who   PRON   WP  nsubj     who    wh-pronoun, personal\n",
       "4     had    AUX  VBD    aux    have        verb, past tense"
      ]
     },
     "execution_count": 6,
     "metadata": {},
     "output_type": "execute_result"
    }
   ],
   "source": [
    "import numpy as np\n",
    "import pandas as pd\n",
    "\n",
    "# locate chapter headings\n",
    "pattern_1 = [{\"LOWER\": \"chapter\"}, {\"IS_SPACE\": True, \"OP\": \"*\"}]\n",
    "chapter = find_match(main_text, [pattern_1], \"chapter\" )\n",
    "\n",
    "\n",
    "start = [x[1] for x in chapter]\n",
    "end = [x[2] for x in chapter]   \n",
    "\n",
    "drop_words = start+end\n",
    "\n",
    "# drop chapters (function works as chapter headings are 2 tokens long - ie chapter 1 )\n",
    "Updated_main_text = [elem for i, elem in enumerate(main_text) if i not in drop_words]\n",
    "\n",
    "# reset find function \n",
    "matcher.remove(\"chapter\")\n",
    "\n",
    "# create dataframe of tokens for teh whole document \n",
    "df = pd.DataFrame(columns = ['text', 'POS', 'Tag']) \n",
    "\n",
    "data = pd.DataFrame([])\n",
    "\n",
    "for token in Updated_main_text:\n",
    "    data = data.append(pd.DataFrame({'TEXT': token.text, 'POS': token.pos_, 'tag': token.tag_,\"DEP\": token.dep_, \"Lemma\": token.lemma_, \"EXPLAIN\": spacy.explain(token.tag_) }, index=[0]), ignore_index=True)\n",
    "\n",
    "data.head()"
   ]
  },
  {
   "cell_type": "markdown",
   "id": "fc701d0d",
   "metadata": {
    "execution": {
     "iopub.execute_input": "2022-11-27T16:53:21.660406Z",
     "iopub.status.busy": "2022-11-27T16:53:21.659324Z",
     "iopub.status.idle": "2022-11-27T16:53:21.671623Z",
     "shell.execute_reply": "2022-11-27T16:53:21.669798Z",
     "shell.execute_reply.started": "2022-11-27T16:53:21.660362Z"
    },
    "papermill": {
     "duration": 0.008052,
     "end_time": "2022-11-27T21:34:08.560572",
     "exception": false,
     "start_time": "2022-11-27T21:34:08.552520",
     "status": "completed"
    },
    "tags": []
   },
   "source": [
    "# Evaluating Tokens \n",
    "\n",
    "There are 98673 tokens. However the table contains some data which can perhaps be dropped for example spaces."
   ]
  },
  {
   "cell_type": "code",
   "execution_count": 7,
   "id": "1e1fc2ab",
   "metadata": {
    "_kg_hide-input": true,
    "execution": {
     "iopub.execute_input": "2022-11-27T21:34:08.580626Z",
     "iopub.status.busy": "2022-11-27T21:34:08.580194Z",
     "iopub.status.idle": "2022-11-27T21:34:08.585844Z",
     "shell.execute_reply": "2022-11-27T21:34:08.584689Z"
    },
    "papermill": {
     "duration": 0.018499,
     "end_time": "2022-11-27T21:34:08.588216",
     "exception": false,
     "start_time": "2022-11-27T21:34:08.569717",
     "status": "completed"
    },
    "tags": []
   },
   "outputs": [
    {
     "name": "stdout",
     "output_type": "stream",
     "text": [
      "Number of Tokens: 98673\n"
     ]
    }
   ],
   "source": [
    "print(\"Number of Tokens:\", data.shape[0])"
   ]
  },
  {
   "cell_type": "code",
   "execution_count": 8,
   "id": "bf1bc13b",
   "metadata": {
    "_kg_hide-input": true,
    "execution": {
     "iopub.execute_input": "2022-11-27T21:34:08.607154Z",
     "iopub.status.busy": "2022-11-27T21:34:08.606728Z",
     "iopub.status.idle": "2022-11-27T21:34:08.625937Z",
     "shell.execute_reply": "2022-11-27T21:34:08.624637Z"
    },
    "papermill": {
     "duration": 0.031508,
     "end_time": "2022-11-27T21:34:08.628363",
     "exception": false,
     "start_time": "2022-11-27T21:34:08.596855",
     "status": "completed"
    },
    "tags": []
   },
   "outputs": [
    {
     "data": {
      "text/html": [
       "<div>\n",
       "<style scoped>\n",
       "    .dataframe tbody tr th:only-of-type {\n",
       "        vertical-align: middle;\n",
       "    }\n",
       "\n",
       "    .dataframe tbody tr th {\n",
       "        vertical-align: top;\n",
       "    }\n",
       "\n",
       "    .dataframe thead th {\n",
       "        text-align: right;\n",
       "    }\n",
       "</style>\n",
       "<table border=\"1\" class=\"dataframe\">\n",
       "  <thead>\n",
       "    <tr style=\"text-align: right;\">\n",
       "      <th></th>\n",
       "      <th>TEXT</th>\n",
       "      <th>POS</th>\n",
       "      <th>tag</th>\n",
       "      <th>DEP</th>\n",
       "      <th>Lemma</th>\n",
       "      <th>EXPLAIN</th>\n",
       "    </tr>\n",
       "  </thead>\n",
       "  <tbody>\n",
       "    <tr>\n",
       "      <th>0</th>\n",
       "      <td>\\n\\n\\n</td>\n",
       "      <td>SPACE</td>\n",
       "      <td>_SP</td>\n",
       "      <td>dep</td>\n",
       "      <td>\\n\\n\\n</td>\n",
       "      <td>whitespace</td>\n",
       "    </tr>\n",
       "    <tr>\n",
       "      <th>1</th>\n",
       "      <td>No</td>\n",
       "      <td>DET</td>\n",
       "      <td>DT</td>\n",
       "      <td>det</td>\n",
       "      <td>no</td>\n",
       "      <td>determiner</td>\n",
       "    </tr>\n",
       "    <tr>\n",
       "      <th>2</th>\n",
       "      <td>one</td>\n",
       "      <td>NOUN</td>\n",
       "      <td>NN</td>\n",
       "      <td>nsubj</td>\n",
       "      <td>one</td>\n",
       "      <td>noun, singular or mass</td>\n",
       "    </tr>\n",
       "    <tr>\n",
       "      <th>3</th>\n",
       "      <td>who</td>\n",
       "      <td>PRON</td>\n",
       "      <td>WP</td>\n",
       "      <td>nsubj</td>\n",
       "      <td>who</td>\n",
       "      <td>wh-pronoun, personal</td>\n",
       "    </tr>\n",
       "    <tr>\n",
       "      <th>4</th>\n",
       "      <td>had</td>\n",
       "      <td>AUX</td>\n",
       "      <td>VBD</td>\n",
       "      <td>aux</td>\n",
       "      <td>have</td>\n",
       "      <td>verb, past tense</td>\n",
       "    </tr>\n",
       "  </tbody>\n",
       "</table>\n",
       "</div>"
      ],
      "text/plain": [
       "     TEXT    POS  tag    DEP   Lemma                 EXPLAIN\n",
       "0  \\n\\n\\n  SPACE  _SP    dep  \\n\\n\\n              whitespace\n",
       "1      No    DET   DT    det      no              determiner\n",
       "2     one   NOUN   NN  nsubj     one  noun, singular or mass\n",
       "3     who   PRON   WP  nsubj     who    wh-pronoun, personal\n",
       "4     had    AUX  VBD    aux    have        verb, past tense"
      ]
     },
     "execution_count": 8,
     "metadata": {},
     "output_type": "execute_result"
    }
   ],
   "source": [
    "raw_data = data.copy()\n",
    "raw_data.head()"
   ]
  },
  {
   "cell_type": "markdown",
   "id": "6a20cc8c",
   "metadata": {
    "papermill": {
     "duration": 0.008133,
     "end_time": "2022-11-27T21:34:08.645221",
     "exception": false,
     "start_time": "2022-11-27T21:34:08.637088",
     "status": "completed"
    },
    "tags": []
   },
   "source": [
    " The resulting table looks as follow: "
   ]
  },
  {
   "cell_type": "code",
   "execution_count": 9,
   "id": "70188f5b",
   "metadata": {
    "_kg_hide-input": true,
    "execution": {
     "iopub.execute_input": "2022-11-27T21:34:08.664094Z",
     "iopub.status.busy": "2022-11-27T21:34:08.663654Z",
     "iopub.status.idle": "2022-11-27T21:34:08.708269Z",
     "shell.execute_reply": "2022-11-27T21:34:08.707102Z"
    },
    "papermill": {
     "duration": 0.057088,
     "end_time": "2022-11-27T21:34:08.710832",
     "exception": false,
     "start_time": "2022-11-27T21:34:08.653744",
     "status": "completed"
    },
    "tags": []
   },
   "outputs": [
    {
     "data": {
      "text/html": [
       "<div>\n",
       "<style scoped>\n",
       "    .dataframe tbody tr th:only-of-type {\n",
       "        vertical-align: middle;\n",
       "    }\n",
       "\n",
       "    .dataframe tbody tr th {\n",
       "        vertical-align: top;\n",
       "    }\n",
       "\n",
       "    .dataframe thead th {\n",
       "        text-align: right;\n",
       "    }\n",
       "</style>\n",
       "<table border=\"1\" class=\"dataframe\">\n",
       "  <thead>\n",
       "    <tr style=\"text-align: right;\">\n",
       "      <th></th>\n",
       "      <th>TEXT</th>\n",
       "      <th>POS</th>\n",
       "      <th>tag</th>\n",
       "      <th>DEP</th>\n",
       "      <th>Lemma</th>\n",
       "      <th>EXPLAIN</th>\n",
       "    </tr>\n",
       "  </thead>\n",
       "  <tbody>\n",
       "    <tr>\n",
       "      <th>1</th>\n",
       "      <td>No</td>\n",
       "      <td>DET</td>\n",
       "      <td>DT</td>\n",
       "      <td>det</td>\n",
       "      <td>no</td>\n",
       "      <td>determiner</td>\n",
       "    </tr>\n",
       "    <tr>\n",
       "      <th>2</th>\n",
       "      <td>one</td>\n",
       "      <td>NOUN</td>\n",
       "      <td>NN</td>\n",
       "      <td>nsubj</td>\n",
       "      <td>one</td>\n",
       "      <td>noun, singular or mass</td>\n",
       "    </tr>\n",
       "    <tr>\n",
       "      <th>3</th>\n",
       "      <td>who</td>\n",
       "      <td>PRON</td>\n",
       "      <td>WP</td>\n",
       "      <td>nsubj</td>\n",
       "      <td>who</td>\n",
       "      <td>wh-pronoun, personal</td>\n",
       "    </tr>\n",
       "    <tr>\n",
       "      <th>4</th>\n",
       "      <td>had</td>\n",
       "      <td>AUX</td>\n",
       "      <td>VBD</td>\n",
       "      <td>aux</td>\n",
       "      <td>have</td>\n",
       "      <td>verb, past tense</td>\n",
       "    </tr>\n",
       "    <tr>\n",
       "      <th>5</th>\n",
       "      <td>ever</td>\n",
       "      <td>ADV</td>\n",
       "      <td>RB</td>\n",
       "      <td>advmod</td>\n",
       "      <td>ever</td>\n",
       "      <td>adverb</td>\n",
       "    </tr>\n",
       "  </tbody>\n",
       "</table>\n",
       "</div>"
      ],
      "text/plain": [
       "   TEXT   POS  tag     DEP Lemma                 EXPLAIN\n",
       "1    No   DET   DT     det    no              determiner\n",
       "2   one  NOUN   NN   nsubj   one  noun, singular or mass\n",
       "3   who  PRON   WP   nsubj   who    wh-pronoun, personal\n",
       "4   had   AUX  VBD     aux  have        verb, past tense\n",
       "5  ever   ADV   RB  advmod  ever                  adverb"
      ]
     },
     "execution_count": 9,
     "metadata": {},
     "output_type": "execute_result"
    }
   ],
   "source": [
    "# drop spaces\n",
    "space = raw_data[raw_data[\"POS\"]==\"SPACE\"].index\n",
    "\n",
    "df = raw_data.drop(space)\n",
    "\n",
    "df.head()"
   ]
  },
  {
   "cell_type": "markdown",
   "id": "5b876090",
   "metadata": {
    "execution": {
     "iopub.execute_input": "2022-11-27T17:10:07.837942Z",
     "iopub.status.busy": "2022-11-27T17:10:07.837063Z",
     "iopub.status.idle": "2022-11-27T17:10:07.857042Z",
     "shell.execute_reply": "2022-11-27T17:10:07.855547Z",
     "shell.execute_reply.started": "2022-11-27T17:10:07.837904Z"
    },
    "papermill": {
     "duration": 0.008427,
     "end_time": "2022-11-27T21:34:08.728041",
     "exception": false,
     "start_time": "2022-11-27T21:34:08.719614",
     "status": "completed"
    },
    "tags": []
   },
   "source": [
    "First aspect that may be examined is the use of punctuations. \n",
    "This highlights that the key markers such as comma (\",\") and full stops (\".\") appear most frequently. \n",
    "\n",
    "However ellipsis are also popular.  It should be noted that the use of such punctuations are reported to  bewilder many people ([University of Sussex, 1997](https://www.sussex.ac.uk/informatics/punctuation/colonandsemi/colon))"
   ]
  },
  {
   "cell_type": "code",
   "execution_count": 10,
   "id": "72f484b5",
   "metadata": {
    "_kg_hide-input": true,
    "execution": {
     "iopub.execute_input": "2022-11-27T21:34:08.747320Z",
     "iopub.status.busy": "2022-11-27T21:34:08.746912Z",
     "iopub.status.idle": "2022-11-27T21:34:08.781246Z",
     "shell.execute_reply": "2022-11-27T21:34:08.780140Z"
    },
    "papermill": {
     "duration": 0.046894,
     "end_time": "2022-11-27T21:34:08.783730",
     "exception": false,
     "start_time": "2022-11-27T21:34:08.736836",
     "status": "completed"
    },
    "tags": []
   },
   "outputs": [
    {
     "data": {
      "text/html": [
       "<div>\n",
       "<style scoped>\n",
       "    .dataframe tbody tr th:only-of-type {\n",
       "        vertical-align: middle;\n",
       "    }\n",
       "\n",
       "    .dataframe tbody tr th {\n",
       "        vertical-align: top;\n",
       "    }\n",
       "\n",
       "    .dataframe thead th {\n",
       "        text-align: right;\n",
       "    }\n",
       "</style>\n",
       "<table border=\"1\" class=\"dataframe\">\n",
       "  <thead>\n",
       "    <tr style=\"text-align: right;\">\n",
       "      <th></th>\n",
       "      <th>TEXT</th>\n",
       "      <th>EXPLAIN</th>\n",
       "      <th>count</th>\n",
       "    </tr>\n",
       "  </thead>\n",
       "  <tbody>\n",
       "    <tr>\n",
       "      <th>0</th>\n",
       "      <td>,</td>\n",
       "      <td>punctuation mark, comma</td>\n",
       "      <td>6071</td>\n",
       "    </tr>\n",
       "    <tr>\n",
       "      <th>1</th>\n",
       "      <td>.</td>\n",
       "      <td>punctuation mark, sentence closer</td>\n",
       "      <td>2771</td>\n",
       "    </tr>\n",
       "    <tr>\n",
       "      <th>2</th>\n",
       "      <td>;</td>\n",
       "      <td>punctuation mark, colon or ellipsis</td>\n",
       "      <td>1172</td>\n",
       "    </tr>\n",
       "    <tr>\n",
       "      <th>3</th>\n",
       "      <td>“</td>\n",
       "      <td>opening quotation mark</td>\n",
       "      <td>1062</td>\n",
       "    </tr>\n",
       "    <tr>\n",
       "      <th>4</th>\n",
       "      <td>”</td>\n",
       "      <td>closing quotation mark</td>\n",
       "      <td>1053</td>\n",
       "    </tr>\n",
       "    <tr>\n",
       "      <th>5</th>\n",
       "      <td>!</td>\n",
       "      <td>punctuation mark, sentence closer</td>\n",
       "      <td>423</td>\n",
       "    </tr>\n",
       "    <tr>\n",
       "      <th>6</th>\n",
       "      <td>?</td>\n",
       "      <td>punctuation mark, sentence closer</td>\n",
       "      <td>383</td>\n",
       "    </tr>\n",
       "    <tr>\n",
       "      <th>7</th>\n",
       "      <td>—</td>\n",
       "      <td>punctuation mark, colon or ellipsis</td>\n",
       "      <td>371</td>\n",
       "    </tr>\n",
       "    <tr>\n",
       "      <th>8</th>\n",
       "      <td>-</td>\n",
       "      <td>punctuation mark, hyphen</td>\n",
       "      <td>237</td>\n",
       "    </tr>\n",
       "    <tr>\n",
       "      <th>9</th>\n",
       "      <td>:</td>\n",
       "      <td>punctuation mark, colon or ellipsis</td>\n",
       "      <td>83</td>\n",
       "    </tr>\n",
       "  </tbody>\n",
       "</table>\n",
       "</div>"
      ],
      "text/plain": [
       "  TEXT                              EXPLAIN  count\n",
       "0    ,              punctuation mark, comma   6071\n",
       "1    .    punctuation mark, sentence closer   2771\n",
       "2    ;  punctuation mark, colon or ellipsis   1172\n",
       "3    “               opening quotation mark   1062\n",
       "4    ”               closing quotation mark   1053\n",
       "5    !    punctuation mark, sentence closer    423\n",
       "6    ?    punctuation mark, sentence closer    383\n",
       "7    —  punctuation mark, colon or ellipsis    371\n",
       "8    -             punctuation mark, hyphen    237\n",
       "9    :  punctuation mark, colon or ellipsis     83"
      ]
     },
     "execution_count": 10,
     "metadata": {},
     "output_type": "execute_result"
    }
   ],
   "source": [
    "# identify POS marked as PUNT\n",
    "PUNCT = df[df[\"POS\"]==\"PUNCT\"]\n",
    "\n",
    "# count values in resulting table\n",
    "PUNCT[[\"TEXT\",\"EXPLAIN\"]].value_counts().head(10).reset_index(name = \"count\")"
   ]
  },
  {
   "cell_type": "markdown",
   "id": "46068ee4",
   "metadata": {
    "execution": {
     "iopub.execute_input": "2022-11-27T17:20:59.998950Z",
     "iopub.status.busy": "2022-11-27T17:20:59.998510Z",
     "iopub.status.idle": "2022-11-27T17:21:00.028331Z",
     "shell.execute_reply": "2022-11-27T17:21:00.027279Z",
     "shell.execute_reply.started": "2022-11-27T17:20:59.998897Z"
    },
    "papermill": {
     "duration": 0.008802,
     "end_time": "2022-11-27T21:34:08.801688",
     "exception": false,
     "start_time": "2022-11-27T21:34:08.792886",
     "status": "completed"
    },
    "tags": []
   },
   "source": [
    "The popular tokens from other categories can be reviewed as follows: "
   ]
  },
  {
   "cell_type": "code",
   "execution_count": 11,
   "id": "e769058c",
   "metadata": {
    "execution": {
     "iopub.execute_input": "2022-11-27T21:34:08.821334Z",
     "iopub.status.busy": "2022-11-27T21:34:08.820919Z",
     "iopub.status.idle": "2022-11-27T21:34:08.857690Z",
     "shell.execute_reply": "2022-11-27T21:34:08.856487Z"
    },
    "papermill": {
     "duration": 0.050217,
     "end_time": "2022-11-27T21:34:08.860725",
     "exception": false,
     "start_time": "2022-11-27T21:34:08.810508",
     "status": "completed"
    },
    "tags": []
   },
   "outputs": [
    {
     "data": {
      "text/html": [
       "<div>\n",
       "<style scoped>\n",
       "    .dataframe tbody tr th:only-of-type {\n",
       "        vertical-align: middle;\n",
       "    }\n",
       "\n",
       "    .dataframe tbody tr th {\n",
       "        vertical-align: top;\n",
       "    }\n",
       "\n",
       "    .dataframe thead th {\n",
       "        text-align: right;\n",
       "    }\n",
       "</style>\n",
       "<table border=\"1\" class=\"dataframe\">\n",
       "  <thead>\n",
       "    <tr style=\"text-align: right;\">\n",
       "      <th></th>\n",
       "      <th>TEXT</th>\n",
       "      <th>POS</th>\n",
       "      <th>tag</th>\n",
       "      <th>DEP</th>\n",
       "      <th>Lemma</th>\n",
       "      <th>EXPLAIN</th>\n",
       "    </tr>\n",
       "  </thead>\n",
       "  <tbody>\n",
       "    <tr>\n",
       "      <th>3028</th>\n",
       "      <td>’s</td>\n",
       "      <td>X</td>\n",
       "      <td>XX</td>\n",
       "      <td>punct</td>\n",
       "      <td>’s</td>\n",
       "      <td>unknown</td>\n",
       "    </tr>\n",
       "    <tr>\n",
       "      <th>5356</th>\n",
       "      <td>_</td>\n",
       "      <td>X</td>\n",
       "      <td>LS</td>\n",
       "      <td>nsubj</td>\n",
       "      <td>_</td>\n",
       "      <td>list item marker</td>\n",
       "    </tr>\n",
       "    <tr>\n",
       "      <th>6793</th>\n",
       "      <td>1</td>\n",
       "      <td>X</td>\n",
       "      <td>LS</td>\n",
       "      <td>meta</td>\n",
       "      <td>1</td>\n",
       "      <td>list item marker</td>\n",
       "    </tr>\n",
       "    <tr>\n",
       "      <th>7810</th>\n",
       "      <td>etc</td>\n",
       "      <td>X</td>\n",
       "      <td>FW</td>\n",
       "      <td>appos</td>\n",
       "      <td>etc</td>\n",
       "      <td>foreign word</td>\n",
       "    </tr>\n",
       "    <tr>\n",
       "      <th>7811</th>\n",
       "      <td>.</td>\n",
       "      <td>X</td>\n",
       "      <td>FW</td>\n",
       "      <td>conj</td>\n",
       "      <td>.</td>\n",
       "      <td>foreign word</td>\n",
       "    </tr>\n",
       "  </tbody>\n",
       "</table>\n",
       "</div>"
      ],
      "text/plain": [
       "     TEXT POS tag    DEP Lemma           EXPLAIN\n",
       "3028   ’s   X  XX  punct    ’s           unknown\n",
       "5356    _   X  LS  nsubj     _  list item marker\n",
       "6793    1   X  LS   meta     1  list item marker\n",
       "7810  etc   X  FW  appos   etc      foreign word\n",
       "7811    .   X  FW   conj     .      foreign word"
      ]
     },
     "execution_count": 11,
     "metadata": {},
     "output_type": "execute_result"
    }
   ],
   "source": [
    "# exclude PUNT from dataframe\n",
    "words = df[df[\"POS\"]!=\"PUNCT\"]\n",
    "\n",
    "# examine tokens with POS as X\n",
    "words[words[\"POS\"]==\"X\"].head()"
   ]
  },
  {
   "cell_type": "code",
   "execution_count": 12,
   "id": "34084b32",
   "metadata": {
    "_kg_hide-input": false,
    "execution": {
     "iopub.execute_input": "2022-11-27T21:34:08.880958Z",
     "iopub.status.busy": "2022-11-27T21:34:08.880573Z",
     "iopub.status.idle": "2022-11-27T21:34:08.902442Z",
     "shell.execute_reply": "2022-11-27T21:34:08.901111Z"
    },
    "papermill": {
     "duration": 0.034833,
     "end_time": "2022-11-27T21:34:08.905015",
     "exception": false,
     "start_time": "2022-11-27T21:34:08.870182",
     "status": "completed"
    },
    "tags": []
   },
   "outputs": [
    {
     "data": {
      "text/html": [
       "<div>\n",
       "<style scoped>\n",
       "    .dataframe tbody tr th:only-of-type {\n",
       "        vertical-align: middle;\n",
       "    }\n",
       "\n",
       "    .dataframe tbody tr th {\n",
       "        vertical-align: top;\n",
       "    }\n",
       "\n",
       "    .dataframe thead th {\n",
       "        text-align: right;\n",
       "    }\n",
       "</style>\n",
       "<table border=\"1\" class=\"dataframe\">\n",
       "  <thead>\n",
       "    <tr style=\"text-align: right;\">\n",
       "      <th></th>\n",
       "      <th>TEXT</th>\n",
       "      <th>POS</th>\n",
       "      <th>tag</th>\n",
       "      <th>DEP</th>\n",
       "      <th>Lemma</th>\n",
       "      <th>EXPLAIN</th>\n",
       "    </tr>\n",
       "  </thead>\n",
       "  <tbody>\n",
       "    <tr>\n",
       "      <th>70</th>\n",
       "      <td>though</td>\n",
       "      <td>SCONJ</td>\n",
       "      <td>IN</td>\n",
       "      <td>mark</td>\n",
       "      <td>though</td>\n",
       "      <td>conjunction, subordinating or preposition</td>\n",
       "    </tr>\n",
       "    <tr>\n",
       "      <th>90</th>\n",
       "      <td>besides</td>\n",
       "      <td>SCONJ</td>\n",
       "      <td>IN</td>\n",
       "      <td>prep</td>\n",
       "      <td>besides</td>\n",
       "      <td>conjunction, subordinating or preposition</td>\n",
       "    </tr>\n",
       "    <tr>\n",
       "      <th>143</th>\n",
       "      <td>before</td>\n",
       "      <td>SCONJ</td>\n",
       "      <td>IN</td>\n",
       "      <td>mark</td>\n",
       "      <td>before</td>\n",
       "      <td>conjunction, subordinating or preposition</td>\n",
       "    </tr>\n",
       "    <tr>\n",
       "      <th>161</th>\n",
       "      <td>as</td>\n",
       "      <td>SCONJ</td>\n",
       "      <td>IN</td>\n",
       "      <td>mark</td>\n",
       "      <td>as</td>\n",
       "      <td>conjunction, subordinating or preposition</td>\n",
       "    </tr>\n",
       "    <tr>\n",
       "      <th>209</th>\n",
       "      <td>where</td>\n",
       "      <td>SCONJ</td>\n",
       "      <td>WRB</td>\n",
       "      <td>advmod</td>\n",
       "      <td>where</td>\n",
       "      <td>wh-adverb</td>\n",
       "    </tr>\n",
       "  </tbody>\n",
       "</table>\n",
       "</div>"
      ],
      "text/plain": [
       "        TEXT    POS  tag     DEP    Lemma  \\\n",
       "70    though  SCONJ   IN    mark   though   \n",
       "90   besides  SCONJ   IN    prep  besides   \n",
       "143   before  SCONJ   IN    mark   before   \n",
       "161       as  SCONJ   IN    mark       as   \n",
       "209    where  SCONJ  WRB  advmod    where   \n",
       "\n",
       "                                       EXPLAIN  \n",
       "70   conjunction, subordinating or preposition  \n",
       "90   conjunction, subordinating or preposition  \n",
       "143  conjunction, subordinating or preposition  \n",
       "161  conjunction, subordinating or preposition  \n",
       "209                                  wh-adverb  "
      ]
     },
     "execution_count": 12,
     "metadata": {},
     "output_type": "execute_result"
    }
   ],
   "source": [
    "# examine tokens with POS as SCONJ\n",
    "words[words[\"POS\"]==\"SCONJ\"].head()"
   ]
  },
  {
   "cell_type": "markdown",
   "id": "97869ddd",
   "metadata": {
    "papermill": {
     "duration": 0.009251,
     "end_time": "2022-11-27T21:34:08.924229",
     "exception": false,
     "start_time": "2022-11-27T21:34:08.914978",
     "status": "completed"
    },
    "tags": []
   },
   "source": [
    "The remaining tokens consist of  various categories such as numbers, yes/no and determiners. "
   ]
  },
  {
   "cell_type": "code",
   "execution_count": 13,
   "id": "d9df5a7b",
   "metadata": {
    "_kg_hide-input": false,
    "execution": {
     "iopub.execute_input": "2022-11-27T21:34:08.944963Z",
     "iopub.status.busy": "2022-11-27T21:34:08.944313Z",
     "iopub.status.idle": "2022-11-27T21:34:08.966235Z",
     "shell.execute_reply": "2022-11-27T21:34:08.965112Z"
    },
    "papermill": {
     "duration": 0.035195,
     "end_time": "2022-11-27T21:34:08.968761",
     "exception": false,
     "start_time": "2022-11-27T21:34:08.933566",
     "status": "completed"
    },
    "tags": []
   },
   "outputs": [
    {
     "data": {
      "text/html": [
       "<div>\n",
       "<style scoped>\n",
       "    .dataframe tbody tr th:only-of-type {\n",
       "        vertical-align: middle;\n",
       "    }\n",
       "\n",
       "    .dataframe tbody tr th {\n",
       "        vertical-align: top;\n",
       "    }\n",
       "\n",
       "    .dataframe thead th {\n",
       "        text-align: right;\n",
       "    }\n",
       "</style>\n",
       "<table border=\"1\" class=\"dataframe\">\n",
       "  <thead>\n",
       "    <tr style=\"text-align: right;\">\n",
       "      <th></th>\n",
       "      <th>TEXT</th>\n",
       "      <th>POS</th>\n",
       "      <th>tag</th>\n",
       "      <th>DEP</th>\n",
       "      <th>Lemma</th>\n",
       "      <th>EXPLAIN</th>\n",
       "    </tr>\n",
       "  </thead>\n",
       "  <tbody>\n",
       "    <tr>\n",
       "      <th>2</th>\n",
       "      <td>one</td>\n",
       "      <td>NOUN</td>\n",
       "      <td>NN</td>\n",
       "      <td>nsubj</td>\n",
       "      <td>one</td>\n",
       "      <td>noun, singular or mass</td>\n",
       "    </tr>\n",
       "    <tr>\n",
       "      <th>11</th>\n",
       "      <td>infancy</td>\n",
       "      <td>NOUN</td>\n",
       "      <td>NN</td>\n",
       "      <td>pobj</td>\n",
       "      <td>infancy</td>\n",
       "      <td>noun, singular or mass</td>\n",
       "    </tr>\n",
       "    <tr>\n",
       "      <th>21</th>\n",
       "      <td>heroine</td>\n",
       "      <td>NOUN</td>\n",
       "      <td>NN</td>\n",
       "      <td>attr</td>\n",
       "      <td>heroine</td>\n",
       "      <td>noun, singular or mass</td>\n",
       "    </tr>\n",
       "    <tr>\n",
       "      <th>24</th>\n",
       "      <td>situation</td>\n",
       "      <td>NOUN</td>\n",
       "      <td>NN</td>\n",
       "      <td>advcl</td>\n",
       "      <td>situation</td>\n",
       "      <td>noun, singular or mass</td>\n",
       "    </tr>\n",
       "    <tr>\n",
       "      <th>26</th>\n",
       "      <td>life</td>\n",
       "      <td>NOUN</td>\n",
       "      <td>NN</td>\n",
       "      <td>pobj</td>\n",
       "      <td>life</td>\n",
       "      <td>noun, singular or mass</td>\n",
       "    </tr>\n",
       "  </tbody>\n",
       "</table>\n",
       "</div>"
      ],
      "text/plain": [
       "         TEXT   POS tag    DEP      Lemma                 EXPLAIN\n",
       "2         one  NOUN  NN  nsubj        one  noun, singular or mass\n",
       "11    infancy  NOUN  NN   pobj    infancy  noun, singular or mass\n",
       "21    heroine  NOUN  NN   attr    heroine  noun, singular or mass\n",
       "24  situation  NOUN  NN  advcl  situation  noun, singular or mass\n",
       "26       life  NOUN  NN   pobj       life  noun, singular or mass"
      ]
     },
     "execution_count": 13,
     "metadata": {},
     "output_type": "execute_result"
    }
   ],
   "source": [
    "# examine tokens with POS as NOUN\n",
    "words[words[\"POS\"]==\"NOUN\"].head()"
   ]
  },
  {
   "cell_type": "markdown",
   "id": "c2567be4",
   "metadata": {
    "papermill": {
     "duration": 0.009373,
     "end_time": "2022-11-27T21:34:08.987942",
     "exception": false,
     "start_time": "2022-11-27T21:34:08.978569",
     "status": "completed"
    },
    "tags": []
   },
   "source": [
    "It should be noted that surrounding text influences the information concerning each token. For example, examining the nouns highlights \"one\" as a noun. Reviewing the first sentence of the text highlights that the \"one\" comes from the phrase \"no one who..\" and therefore is not a numerical figure.  "
   ]
  },
  {
   "cell_type": "code",
   "execution_count": 14,
   "id": "9c99f98c",
   "metadata": {
    "_kg_hide-input": true,
    "execution": {
     "iopub.execute_input": "2022-11-27T21:34:09.010116Z",
     "iopub.status.busy": "2022-11-27T21:34:09.009382Z",
     "iopub.status.idle": "2022-11-27T21:34:09.015902Z",
     "shell.execute_reply": "2022-11-27T21:34:09.014206Z"
    },
    "papermill": {
     "duration": 0.020604,
     "end_time": "2022-11-27T21:34:09.018188",
     "exception": false,
     "start_time": "2022-11-27T21:34:08.997584",
     "status": "completed"
    },
    "tags": []
   },
   "outputs": [
    {
     "name": "stdout",
     "output_type": "stream",
     "text": [
      "\n",
      "\n",
      "\n",
      "\n",
      "\n",
      "CHAPTER 1\n",
      "\n",
      "\n",
      "No one who had ever seen Catherine Morland in her infancy would have\n",
      "supposed her born to be an heroine.\n"
     ]
    }
   ],
   "source": [
    "print(doc_sentences[0].text)"
   ]
  },
  {
   "cell_type": "code",
   "execution_count": 15,
   "id": "de483f9b",
   "metadata": {
    "_kg_hide-input": true,
    "execution": {
     "iopub.execute_input": "2022-11-27T21:34:09.041211Z",
     "iopub.status.busy": "2022-11-27T21:34:09.039065Z",
     "iopub.status.idle": "2022-11-27T21:34:09.129621Z",
     "shell.execute_reply": "2022-11-27T21:34:09.128287Z"
    },
    "papermill": {
     "duration": 0.104321,
     "end_time": "2022-11-27T21:34:09.132407",
     "exception": false,
     "start_time": "2022-11-27T21:34:09.028086",
     "status": "completed"
    },
    "tags": []
   },
   "outputs": [],
   "source": [
    "\n",
    "# library for data visualisation \n",
    "import matplotlib.pyplot as plt\n",
    "import seaborn as sns \n",
    "\n",
    "# function to create graph \n",
    "def Category_group(df,POS_type, title):\n",
    "    extract = df[df[\"POS\"]== POS_type][[\"TEXT\",\"EXPLAIN\"]].value_counts().head(20).reset_index(name = \"count\")\n",
    "    \n",
    "    plt.figure(figsize = (20,8))\n",
    "    plt.title(title)\n",
    "    sns.barplot(y = \"TEXT\", x = \"count\", data = extract,palette = \"crest_r\" )\n",
    "    sns.despine(top = True, right = True, left = False, bottom = False)\n",
    "    plt.show()"
   ]
  },
  {
   "cell_type": "code",
   "execution_count": 16,
   "id": "e474d6bc",
   "metadata": {
    "_kg_hide-input": true,
    "execution": {
     "iopub.execute_input": "2022-11-27T21:34:09.154742Z",
     "iopub.status.busy": "2022-11-27T21:34:09.154349Z",
     "iopub.status.idle": "2022-11-27T21:34:09.567565Z",
     "shell.execute_reply": "2022-11-27T21:34:09.566341Z"
    },
    "papermill": {
     "duration": 0.427966,
     "end_time": "2022-11-27T21:34:09.570367",
     "exception": false,
     "start_time": "2022-11-27T21:34:09.142401",
     "status": "completed"
    },
    "tags": []
   },
   "outputs": [
    {
     "data": {
      "image/png": "[encoded data removed]",
      "text/plain": [
       "<Figure size 1440x576 with 1 Axes>"
      ]
     },
     "metadata": {
      "needs_background": "light"
     },
     "output_type": "display_data"
    }
   ],
   "source": [
    "Category_group(words,\"NOUN\", \"Popular Nouns\" )"
   ]
  },
  {
   "cell_type": "code",
   "execution_count": 17,
   "id": "762b6a04",
   "metadata": {
    "_kg_hide-input": true,
    "execution": {
     "iopub.execute_input": "2022-11-27T21:34:09.593314Z",
     "iopub.status.busy": "2022-11-27T21:34:09.592891Z",
     "iopub.status.idle": "2022-11-27T21:34:09.964590Z",
     "shell.execute_reply": "2022-11-27T21:34:09.963326Z"
    },
    "papermill": {
     "duration": 0.386188,
     "end_time": "2022-11-27T21:34:09.967142",
     "exception": false,
     "start_time": "2022-11-27T21:34:09.580954",
     "status": "completed"
    },
    "tags": []
   },
   "outputs": [
    {
     "data": {
      "image/png": "[encoded data removed]",
      "text/plain": [
       "<Figure size 1440x576 with 1 Axes>"
      ]
     },
     "metadata": {
      "needs_background": "light"
     },
     "output_type": "display_data"
    }
   ],
   "source": [
    "Category_group(words,\"PRON\", \"Popular pronoun\" )"
   ]
  },
  {
   "cell_type": "markdown",
   "id": "97dcf3fd",
   "metadata": {
    "papermill": {
     "duration": 0.010128,
     "end_time": "2022-11-27T21:34:09.987920",
     "exception": false,
     "start_time": "2022-11-27T21:34:09.977792",
     "status": "completed"
    },
    "tags": []
   },
   "source": [
    "The proper noun can indicate some of the most popular characters. That said, if a character is referred to as \"she\", their reference is broken into the pronoun. As such of this aspect, manual examination will be required. "
   ]
  },
  {
   "cell_type": "code",
   "execution_count": 18,
   "id": "b6808d9f",
   "metadata": {
    "_kg_hide-input": true,
    "execution": {
     "iopub.execute_input": "2022-11-27T21:34:10.010840Z",
     "iopub.status.busy": "2022-11-27T21:34:10.010454Z",
     "iopub.status.idle": "2022-11-27T21:34:10.468404Z",
     "shell.execute_reply": "2022-11-27T21:34:10.466994Z"
    },
    "papermill": {
     "duration": 0.473265,
     "end_time": "2022-11-27T21:34:10.471819",
     "exception": false,
     "start_time": "2022-11-27T21:34:09.998554",
     "status": "completed"
    },
    "tags": []
   },
   "outputs": [
    {
     "data": {
      "image/png": "[encoded data removed]",
      "text/plain": [
       "<Figure size 1440x576 with 1 Axes>"
      ]
     },
     "metadata": {
      "needs_background": "light"
     },
     "output_type": "display_data"
    }
   ],
   "source": [
    "names = words[words[\"POS\"]==\"PROPN\"][[\"TEXT\",\"EXPLAIN\"]].value_counts().reset_index(name = \"count\")\n",
    "\n",
    "#exclude outliers such as Miss and other non-name proper nouns\n",
    "list = [2,3,4, 335, 20,25, 27, 14,15,18,32,33, 34,36]\n",
    "name_list = names.drop(list).head(25)\n",
    "\n",
    "\n",
    "plt.figure(figsize = (20,8))\n",
    "\n",
    "plt.title(\"Popular proper nouns\")\n",
    "sns.barplot(y = \"TEXT\", x = \"count\", data = name_list)\n",
    "sns.despine(top = True, right = True, left = False, bottom = False)"
   ]
  },
  {
   "cell_type": "markdown",
   "id": "4fdfdf9a",
   "metadata": {
    "papermill": {
     "duration": 0.013732,
     "end_time": "2022-11-27T21:34:10.497623",
     "exception": false,
     "start_time": "2022-11-27T21:34:10.483891",
     "status": "completed"
    },
    "tags": []
   },
   "source": [
    "# Conclusion\n",
    "This was a mini-project examining some of the aspects of the spacy library. Whilst this project examines its uses in a playful manner, applying it to a novel, it can have wider users. One key such use is for document checking. For instance, in the aviation items must have a [Certificate of Conformity](http://www.faa-aircraft-certification.com/faa-form-81303-vs-certificate-of-conformity.html). Such documents must be correct and accurate as it travels up the supply chain and therefore frequent checking. Subsequently aspects such as those highlighted here could be used to identify if key aspects have been satisfied. "
   ]
  },
  {
   "cell_type": "code",
   "execution_count": null,
   "id": "c20d3139",
   "metadata": {
    "papermill": {
     "duration": 0.010977,
     "end_time": "2022-11-27T21:34:10.526129",
     "exception": false,
     "start_time": "2022-11-27T21:34:10.515152",
     "status": "completed"
    },
    "tags": []
   },
   "outputs": [],
   "source": []
  }
 ],
 "metadata": {
  "kernelspec": {
   "display_name": "Python 3",
   "language": "python",
   "name": "python3"
  },
  "language_info": {
   "codemirror_mode": {
    "name": "ipython",
    "version": 3
   },
   "file_extension": ".py",
   "mimetype": "text/x-python",
   "name": "python",
   "nbconvert_exporter": "python",
   "pygments_lexer": "ipython3",
   "version": "3.7.12"
  },
  "papermill": {
   "default_parameters": {},
   "duration": 595.577041,
   "end_time": "2022-11-27T21:34:13.309576",
   "environment_variables": {},
   "exception": null,
   "input_path": "__notebook__.ipynb",
   "output_path": "__notebook__.ipynb",
   "parameters": {},
   "start_time": "2022-11-27T21:24:17.732535",
   "version": "2.3.4"
  }
 },
 "nbformat": 4,
 "nbformat_minor": 5
}
